{
 "cells": [
  {
   "cell_type": "markdown",
   "id": "7ecc9fa6-a5ed-4bdb-9861-ca0f7ba6d990",
   "metadata": {},
   "source": [
    "# Mapping and publishing\n",
    "\n",
    "In this section we take a look at adding our computed NDVI metrics to our map, along with methods for publishing our maps as interactive web applications."
   ]
  },
  {
   "cell_type": "code",
   "execution_count": null,
   "id": "ad08a14b-1abe-4955-b0d3-7688b7ca05eb",
   "metadata": {},
   "outputs": [],
   "source": [
    "from ibis import _\n",
    "con = ibis.duckdb.connect(extensions=[\"spatial\"])\n",
    "\n",
    "city = (con\n",
    "        .read_geo(\"/vsicurl/https://dsl.richmond.edu/panorama/redlining/static/mappinginequality.gpkg\")\n",
    "        .filter(_.city == \"New Haven\")\n",
    "        .execute()\n",
    "       )"
   ]
  },
  {
   "cell_type": "code",
   "execution_count": null,
   "id": "79338e3f-227b-4555-a58e-b6df628d1389",
   "metadata": {},
   "outputs": [],
   "source": [
    "import leafmap.maplibregl as leafmap\n",
    "\n",
    "m = leafmap.Map(style = \"voyager\")\n",
    "m.add_cog_layer(\"https://github.com/espm-157/static-maps/raw/refs/heads/main/ndvi.tif\", colormap_name = \"greens\", nodata=1)\n",
    "m.add_gdf(city, \"fill\",  paint = { \"fill-color\": [\"get\", \"fill\"], \"fill-opacity\": 0.8})\n",
    "m\n"
   ]
  }
 ],
 "metadata": {
  "kernelspec": {
   "display_name": "Python 3 (ipykernel)",
   "language": "python",
   "name": "python3"
  },
  "language_info": {
   "codemirror_mode": {
    "name": "ipython",
    "version": 3
   },
   "file_extension": ".py",
   "mimetype": "text/x-python",
   "name": "python",
   "nbconvert_exporter": "python",
   "pygments_lexer": "ipython3",
   "version": "3.12.6"
  }
 },
 "nbformat": 4,
 "nbformat_minor": 5
}
