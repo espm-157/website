{
 "cells": [
  {
   "cell_type": "markdown",
   "id": "e3ad2371-45da-47c9-ae45-6bc5f521e7e0",
   "metadata": {},
   "source": [
    "# Satellite Imagery\n",
    "\n",
    "In this section we turn to **raster** data, specifically, to satellite imagery.  "
   ]
  },
  {
   "cell_type": "code",
   "execution_count": 3,
   "id": "48b9cd7b-9470-45c8-8fb5-34dc03086fed",
   "metadata": {},
   "outputs": [
    {
     "data": {
      "text/plain": [
       "array([-72.99321,  41.23109, -72.85227,  41.37502])"
      ]
     },
     "execution_count": 3,
     "metadata": {},
     "output_type": "execute_result"
    }
   ],
   "source": [
    "import ibis\n",
    "from ibis import _\n",
    "con = ibis.duckdb.connect()\n",
    "\n",
    "redlines = (con\n",
    "            .read_geo(\"/vsicurl/https://dsl.richmond.edu/panorama/redlining/static/mappinginequality.gpkg\")\n",
    "            .filter(_.city == \"New Haven\")\n",
    "            .execute()\n",
    "           )\n",
    "box = redlines.total_bounds\n",
    "box"
   ]
  },
  {
   "cell_type": "markdown",
   "id": "12ea79d6-2843-4ca3-a264-692126962563",
   "metadata": {},
   "source": []
  },
  {
   "cell_type": "code",
   "execution_count": null,
   "id": "79b43006-0a92-411e-b6de-8165abf4f417",
   "metadata": {},
   "outputs": [],
   "source": [
    "items = (\n",
    "  Client.\n",
    "  open(\"https://earth-search.aws.element84.com/v1\").\n",
    "  search(\n",
    "    collections = ['sentinel-2-l2a'],\n",
    "    bbox = box,\n",
    "    datetime = \"2022-06-01/2022-08-01\",\n",
    "    query={\"eo:cloud_cover\": {\"lt\": 20}}).\n",
    "  item_collection()\n",
    ")"
   ]
  }
 ],
 "metadata": {
  "kernelspec": {
   "display_name": "Python 3 (ipykernel)",
   "language": "python",
   "name": "python3"
  },
  "language_info": {
   "codemirror_mode": {
    "name": "ipython",
    "version": 3
   },
   "file_extension": ".py",
   "mimetype": "text/x-python",
   "name": "python",
   "nbconvert_exporter": "python",
   "pygments_lexer": "ipython3",
   "version": "3.12.6"
  }
 },
 "nbformat": 4,
 "nbformat_minor": 5
}
