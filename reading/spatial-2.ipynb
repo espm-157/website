{
 "cells": [
  {
   "cell_type": "markdown",
   "id": "e3ad2371-45da-47c9-ae45-6bc5f521e7e0",
   "metadata": {},
   "source": [
    "# Mapping 1\n",
    "\n",
    "Now that we've been able to import our first type of spatial data and begin manipulating it using our familiar libraries, we want to put it on a map!  \n",
    "\n",
    "We begin with the code we developed last time for accessing the redlining data for a single city as a geopandas object:"
   ]
  },
  {
   "cell_type": "code",
   "execution_count": 1,
   "id": "51269dee-9bbf-48cf-a1d3-f54bf7d6b664",
   "metadata": {},
   "outputs": [],
   "source": [
    "#| hide\n",
    "from IPython.display import IFrame"
   ]
  },
  {
   "cell_type": "code",
   "execution_count": 2,
   "id": "48b9cd7b-9470-45c8-8fb5-34dc03086fed",
   "metadata": {},
   "outputs": [
    {
     "data": {
      "application/vnd.jupyter.widget-view+json": {
       "model_id": "271c0afa00394d1bb38c3edcc9e0058e",
       "version_major": 2,
       "version_minor": 0
      },
      "text/plain": [
       "FloatProgress(value=0.0, layout=Layout(width='auto'), style=ProgressStyle(bar_color='black'))"
      ]
     },
     "metadata": {},
     "output_type": "display_data"
    }
   ],
   "source": [
    "import ibis\n",
    "from ibis import _\n",
    "con = ibis.duckdb.connect()\n",
    "\n",
    "city = (con\n",
    "    .read_geo(\"/vsicurl/https://dsl.richmond.edu/panorama/redlining/static/mappinginequality.gpkg\")\n",
    "    .filter(_.city == \"New Haven\")\n",
    "    .execute()\n",
    ")\n"
   ]
  },
  {
   "cell_type": "markdown",
   "id": "23d13166-3501-44a8-b5c0-b9e859960284",
   "metadata": {},
   "source": [
    "We will be using `leafmap` to create interactive maps. There are a wide range of mapping packages that have been developed for python (e.g. bokeh, kepler, folium, pydeck, lonboard, pymaplibre-gl), most of which wrap around javascript mapping libraries designed for interactive web-based maps.  Just as the `ibis` package provides an interface to a host of different database engines that can be used as 'backends', leafmap wraps around most of the common mapping engines with a friendly and mostly consistent user interface.  In `ibis` we have focused on the `duckdb` backend as the most powerful, flexible and performant option for all our purposes.  With `leafmap`, we will likewise focus on the most recent and generally most powerful backend option, [`maplibregl`](https://maplibre.org/maplibre-gl-js/docs/) - an open source implementation of the powerful and widely used commericial javascript platform, [Mapbox](https://mapbox.com).   "
   ]
  },
  {
   "cell_type": "code",
   "execution_count": 3,
   "id": "2bf26499-f8f4-457f-a15c-c584d0865894",
   "metadata": {},
   "outputs": [],
   "source": [
    "import leafmap.maplibregl as leafmap\n"
   ]
  },
  {
   "cell_type": "code",
   "execution_count": 4,
   "id": "fe0906fd-60f1-455e-a184-012dbf328cec",
   "metadata": {},
   "outputs": [
    {
     "data": {
      "application/vnd.jupyter.widget-view+json": {
       "model_id": "8cf9736d206b4108830e3093f07427df",
       "version_major": 2,
       "version_minor": 1
      },
      "text/plain": [
       "Map(height='600px', map_options={'bearing': 0, 'center': (0, 20), 'pitch': 0, 'style': 'https://tiles.openfree…"
      ]
     },
     "execution_count": 4,
     "metadata": {},
     "output_type": "execute_result"
    }
   ],
   "source": [
    "#| hide-output\n",
    "m = leafmap.Map(style=\"positron\")\n",
    "m.add_gdf(city)\n",
    "m"
   ]
  },
  {
   "cell_type": "code",
   "execution_count": 5,
   "id": "8a433141-72bd-4b8c-8e46-ed4c86aeb12d",
   "metadata": {
    "scrolled": true
   },
   "outputs": [
    {
     "data": {
      "text/html": [
       "\n",
       "        <iframe\n",
       "            width=\"700\"\n",
       "            height=\"400\"\n",
       "            src=\"../data/nh1.html\"\n",
       "            frameborder=\"0\"\n",
       "            allowfullscreen\n",
       "            \n",
       "        ></iframe>\n",
       "        "
      ],
      "text/plain": [
       "<IPython.lib.display.IFrame at 0x76d1a6b09850>"
      ]
     },
     "execution_count": 5,
     "metadata": {},
     "output_type": "execute_result"
    }
   ],
   "source": [
    "#| remove-cell\n",
    "m.to_html(\"../data/nh1.html\", overwrite=True)\n",
    "IFrame(src='../data/nh1.html', width=700, height=400)"
   ]
  },
  {
   "cell_type": "markdown",
   "id": "0c20600a-03cc-43bd-8bee-b72fe2f33464",
   "metadata": {},
   "source": [
    "[rendered map](../data/nh1.html)"
   ]
  },
  {
   "cell_type": "markdown",
   "id": "9cd8c569-cffd-4d96-beba-530f018011b7",
   "metadata": {},
   "source": [
    "## Map styling \n",
    "\n"
   ]
  },
  {
   "cell_type": "code",
   "execution_count": null,
   "id": "22704317-bcc5-421b-b78b-5b9149124b3f",
   "metadata": {},
   "outputs": [],
   "source": []
  }
 ],
 "metadata": {
  "kernelspec": {
   "display_name": "Python 3 (ipykernel)",
   "language": "python",
   "name": "python3"
  },
  "language_info": {
   "codemirror_mode": {
    "name": "ipython",
    "version": 3
   },
   "file_extension": ".py",
   "mimetype": "text/x-python",
   "name": "python",
   "nbconvert_exporter": "python",
   "pygments_lexer": "ipython3",
   "version": "3.11.10"
  }
 },
 "nbformat": 4,
 "nbformat_minor": 5
}
