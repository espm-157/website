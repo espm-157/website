{
 "cells": [
  {
   "cell_type": "markdown",
   "id": "e3ad2371-45da-47c9-ae45-6bc5f521e7e0",
   "metadata": {},
   "source": [
    "# Mapping 1\n",
    "\n",
    "Now that we've been able to import our first type of spatial data and begin manipulating it using our familiar libraries, we want to put it on a map!  \n",
    "\n",
    "We begin with the code we developed last time for accessing the redlining data for a single city as a geopandas object:"
   ]
  },
  {
   "cell_type": "code",
   "execution_count": 16,
   "id": "51269dee-9bbf-48cf-a1d3-f54bf7d6b664",
   "metadata": {},
   "outputs": [],
   "source": [
    "#| hide\n",
    "from IPython.display import IFrame"
   ]
  },
  {
   "cell_type": "code",
   "execution_count": 17,
   "id": "48b9cd7b-9470-45c8-8fb5-34dc03086fed",
   "metadata": {},
   "outputs": [],
   "source": [
    "import ibis\n",
    "from ibis import _\n",
    "con = ibis.duckdb.connect()\n",
    "\n",
    "city = (con\n",
    "    .read_geo(\"/vsicurl/https://dsl.richmond.edu/panorama/redlining/static/mappinginequality.gpkg\")\n",
    "    .filter(_.city == \"New Haven\")\n",
    "    .execute()\n",
    ")\n"
   ]
  },
  {
   "cell_type": "markdown",
   "id": "23d13166-3501-44a8-b5c0-b9e859960284",
   "metadata": {},
   "source": [
    "We will be using `leafmap` to create interactive maps. There are a wide range of mapping packages that have been developed for python (e.g. bokeh, kepler, folium, pydeck, lonboard, pymaplibre-gl), most of which wrap around javascript mapping libraries designed for interactive web-based maps.  Just as the `ibis` package provides an interface to a host of different database engines that can be used as 'backends', leafmap wraps around most of the common mapping engines with a friendly and mostly consistent user interface.  In `ibis` we have focused on the `duckdb` backend as the most powerful, flexible and performant option for all our purposes.  With `leafmap`, we will likewise focus on the most recent and generally most powerful backend option, [`maplibregl`](https://maplibre.org/maplibre-gl-js/docs/) - an open source implementation of the powerful and widely used commericial javascript platform, [Mapbox](https://mapbox.com).   "
   ]
  },
  {
   "cell_type": "code",
   "execution_count": 18,
   "id": "2bf26499-f8f4-457f-a15c-c584d0865894",
   "metadata": {},
   "outputs": [],
   "source": [
    "import leafmap.maplibregl as leafmap\n"
   ]
  },
  {
   "cell_type": "code",
   "execution_count": 19,
   "id": "fe0906fd-60f1-455e-a184-012dbf328cec",
   "metadata": {},
   "outputs": [
    {
     "data": {
      "application/vnd.jupyter.widget-view+json": {
       "model_id": "acb383047d234c6a889d5f0fce6aa04a",
       "version_major": 2,
       "version_minor": 1
      },
      "text/plain": [
       "Map(height='600px', map_options={'bearing': 0, 'center': (0, 20), 'pitch': 0, 'style': 'https://tiles.openfree…"
      ]
     },
     "execution_count": 19,
     "metadata": {},
     "output_type": "execute_result"
    }
   ],
   "source": [
    "#| hide-output\n",
    "m = leafmap.Map(style=\"positron\")\n",
    "m.add_gdf(city)\n",
    "m"
   ]
  },
  {
   "cell_type": "markdown",
   "id": "70663683-ca61-4150-beb0-14c4f1890f84",
   "metadata": {},
   "source": [
    "Because our map is an interactive javascript applet, putting `m` at the end of the a cell will allow it to display inline in Jupyter, but not in 'static' documentation such as the course website or a GitHub rendering of the notebook.  To share our map, we can export it to an HTML file.  This allows any web browser to view and interact with the map without having to install `jupyter` or `python`.  "
   ]
  },
  {
   "cell_type": "code",
   "execution_count": 20,
   "id": "f7bbe798-585f-4ec7-9099-a836b25b6be2",
   "metadata": {},
   "outputs": [],
   "source": [
    "m.to_html(\"../data/nh1.html\", overwrite=True)"
   ]
  },
  {
   "cell_type": "code",
   "execution_count": 21,
   "id": "8a433141-72bd-4b8c-8e46-ed4c86aeb12d",
   "metadata": {
    "scrolled": true
   },
   "outputs": [
    {
     "data": {
      "text/html": [
       "\n",
       "        <iframe\n",
       "            width=\"700\"\n",
       "            height=\"400\"\n",
       "            src=\"https://espm-157.github.io/static-maps/nh1.html\"\n",
       "            frameborder=\"0\"\n",
       "            allowfullscreen\n",
       "            \n",
       "        ></iframe>\n",
       "        "
      ],
      "text/plain": [
       "<IPython.lib.display.IFrame at 0x73a5c27c1c50>"
      ]
     },
     "execution_count": 21,
     "metadata": {},
     "output_type": "execute_result"
    }
   ],
   "source": [
    "#| hide-input\n",
    "# display map on course website by using an iframe to the output URL \n",
    "IFrame(src='https://espm-157.github.io/static-maps/nh1.html', width=700, height=400)"
   ]
  },
  {
   "cell_type": "markdown",
   "id": "0c20600a-03cc-43bd-8bee-b72fe2f33464",
   "metadata": {},
   "source": [
    "[rendered map fullscreen](../data/nh1.html)"
   ]
  },
  {
   "cell_type": "markdown",
   "id": "9cd8c569-cffd-4d96-beba-530f018011b7",
   "metadata": {},
   "source": [
    "## Map styling \n",
    "\n",
    "Leafmap allows us to add many _layers_ to our map from various data sources, and gives us a rich set of tools for styling the look and feel of most of those data layers.  The example below illustrates some more complex patterns for generating a rich map.\n",
    "\n",
    "- We introduce a basemap with `add_basemap()`.  This is just a background image, that is tiled to re-draw to the appropriate zoom and window.  However, note that basemaps are just background images, we cannot extract actual data from these sources.\n",
    "- We have added source data by pointing to a remote URL. This provides much better performance than embedding the JSON data directly, especially when the data become very large.  This requires the data is hosted at a highly available provider, such as GitHub or another cloud service.  The original host source won't work unfortunately.  \n",
    "- We have used a custom filter inside the source data to select our city of interest.  This could be omitted.\n",
    "- We have colored our polygons according to grade given in the data.  Specifically, we noticed that the column \"fill\" already contains color codes in HEX format corresponding to the redlining \"grade\" associated with each layer.\n",
    "- We have added a final layer of text labels based on the \"label\" column. \n"
   ]
  },
  {
   "cell_type": "code",
   "execution_count": 22,
   "id": "82852946-0439-4dfc-8cdd-750817b2fe86",
   "metadata": {},
   "outputs": [],
   "source": [
    "import json\n",
    "geojson = json.loads(city.to_json())"
   ]
  },
  {
   "cell_type": "code",
   "execution_count": 23,
   "id": "2198d392-6c4c-48de-bf89-743431fa2ec8",
   "metadata": {},
   "outputs": [
    {
     "data": {
      "application/vnd.jupyter.widget-view+json": {
       "model_id": "8a9583e0b4e44fc8b39df9e22a8ad0ab",
       "version_major": 2,
       "version_minor": 1
      },
      "text/plain": [
       "Map(height='600px', map_options={'bearing': 0, 'center': (-72.9, 41.3), 'pitch': 0, 'style': 'https://basemaps…"
      ]
     },
     "execution_count": 23,
     "metadata": {},
     "output_type": "execute_result"
    }
   ],
   "source": [
    "m = leafmap.Map(center=[-72.9, 41.3], zoom=12)\n",
    "\n",
    "source = {\n",
    "    \"type\": \"geojson\", \n",
    "#    'data': geojson,\n",
    "    'data': 'https://data.source.coop/cboettig/us-boundaries/mappinginequality.json',\n",
    "    'filter': ['==', ['get', 'city'], 'New Haven']\n",
    "}\n",
    "layer = {\n",
    "    \"id\": \"geojson-layer\",\n",
    "    \"type\": \"fill\",\n",
    "    \"source\": \"geojson\",\n",
    "     'paint': {\n",
    "        \"fill-color\": [\"get\", \"fill\"], # color by the column called \"fill\"\n",
    "        \"fill-opacity\": 0.8,\n",
    "    },\n",
    "}\n",
    "\n",
    "text_layer = {\n",
    "    \"id\": \"labels\",\n",
    "    \"type\": \"symbol\",\n",
    "    \"source\": \"geojson\",\n",
    "    \"layout\": {\n",
    "        \"text-field\": [\"get\", \"label\"],\n",
    "        \"text_size\": 14,\n",
    "        'text-font': ['Open Sans Bold'],\n",
    "        \"text-anchor\": \"center\",\n",
    "    },\n",
    "     'paint': { 'text-color': '#ffffff'}\n",
    "}\n",
    "\n",
    "\n",
    "m.add_basemap(\"USGS.USTopo\")\n",
    "m.add_source(\"geojson\", source)\n",
    "m.add_layer(layer)\n",
    "m.add_layer(text_layer)\n",
    "\n",
    "m.add_layer_control()\n",
    "\n",
    "m.to_html(\"../data/nh2.html\", overwrite=True)\n",
    "\n",
    "m"
   ]
  },
  {
   "cell_type": "markdown",
   "id": "ce17c3da-fbcb-42d5-b377-6a7b97c8fd74",
   "metadata": {},
   "source": [
    "[rendered map fullscreen](../data/nh2.html)"
   ]
  },
  {
   "cell_type": "code",
   "execution_count": 24,
   "id": "7aa49687-4c6f-466c-811c-e57637ce1bb7",
   "metadata": {},
   "outputs": [
    {
     "data": {
      "text/html": [
       "\n",
       "        <iframe\n",
       "            width=\"700\"\n",
       "            height=\"400\"\n",
       "            src=\"https://espm-157.github.io/static-maps/nh2.html\"\n",
       "            frameborder=\"0\"\n",
       "            allowfullscreen\n",
       "            \n",
       "        ></iframe>\n",
       "        "
      ],
      "text/plain": [
       "<IPython.lib.display.IFrame at 0x73a5c1d60f10>"
      ]
     },
     "execution_count": 24,
     "metadata": {},
     "output_type": "execute_result"
    }
   ],
   "source": [
    "#| hide-input\n",
    "# display map on course website by using an iframe to the output URL \n",
    "IFrame(src='https://espm-157.github.io/static-maps/nh2.html', width=700, height=400)"
   ]
  },
  {
   "cell_type": "code",
   "execution_count": 25,
   "id": "b17a5c05-d69b-423b-b9ff-d94a645279f8",
   "metadata": {},
   "outputs": [
    {
     "data": {
      "text/plain": [
       "['OpenStreetMap',\n",
       " 'Google Maps',\n",
       " 'Google Satellite',\n",
       " 'Google Terrain',\n",
       " 'Google Hybrid',\n",
       " 'FWS NWI Wetlands',\n",
       " 'FWS NWI Wetlands Raster',\n",
       " 'NLCD 2021 CONUS Land Cover',\n",
       " 'NLCD 2019 CONUS Land Cover',\n",
       " 'NLCD 2016 CONUS Land Cover',\n",
       " 'NLCD 2013 CONUS Land Cover',\n",
       " 'NLCD 2011 CONUS Land Cover',\n",
       " 'NLCD 2008 CONUS Land Cover',\n",
       " 'NLCD 2006 CONUS Land Cover',\n",
       " 'NLCD 2004 CONUS Land Cover',\n",
       " 'NLCD 2001 CONUS Land Cover',\n",
       " 'USGS NAIP Imagery',\n",
       " 'USGS NAIP Imagery False Color',\n",
       " 'USGS NAIP Imagery NDVI',\n",
       " 'USGS Hydrography',\n",
       " 'USGS 3DEP Elevation',\n",
       " 'USGS 3DEP Elevation Index',\n",
       " 'ESA Worldcover 2020',\n",
       " 'ESA Worldcover 2020 S2 FCC',\n",
       " 'ESA Worldcover 2020 S2 TCC',\n",
       " 'ESA Worldcover 2021',\n",
       " 'ESA Worldcover 2021 S2 FCC',\n",
       " 'ESA Worldcover 2021 S2 TCC',\n",
       " 'BaseMapDE.Color',\n",
       " 'BaseMapDE.Grey',\n",
       " 'BasemapAT.basemap',\n",
       " 'BasemapAT.grau',\n",
       " 'BasemapAT.highdpi',\n",
       " 'BasemapAT.orthofoto',\n",
       " 'BasemapAT.overlay',\n",
       " 'BasemapAT.surface',\n",
       " 'BasemapAT.terrain',\n",
       " 'CartoDB.DarkMatter',\n",
       " 'CartoDB.DarkMatterNoLabels',\n",
       " 'CartoDB.DarkMatterOnlyLabels',\n",
       " 'CartoDB.Positron',\n",
       " 'CartoDB.PositronNoLabels',\n",
       " 'CartoDB.PositronOnlyLabels',\n",
       " 'CartoDB.Voyager',\n",
       " 'CartoDB.VoyagerLabelsUnder',\n",
       " 'CartoDB.VoyagerNoLabels',\n",
       " 'CartoDB.VoyagerOnlyLabels',\n",
       " 'CyclOSM',\n",
       " 'Esri.AntarcticBasemap',\n",
       " 'Esri.AntarcticImagery',\n",
       " 'Esri.ArcticImagery',\n",
       " 'Esri.ArcticOceanBase',\n",
       " 'Esri.ArcticOceanReference',\n",
       " 'Esri.NatGeoWorldMap',\n",
       " 'Esri.OceanBasemap',\n",
       " 'Esri.WorldGrayCanvas',\n",
       " 'Esri.WorldImagery',\n",
       " 'Esri.WorldPhysical',\n",
       " 'Esri.WorldShadedRelief',\n",
       " 'Esri.WorldStreetMap',\n",
       " 'Esri.WorldTerrain',\n",
       " 'Esri.WorldTopoMap',\n",
       " 'FreeMapSK',\n",
       " 'Gaode.Normal',\n",
       " 'Gaode.Satellite',\n",
       " 'HikeBike.HikeBike',\n",
       " 'HikeBike.HillShading',\n",
       " 'JusticeMap.americanIndian',\n",
       " 'JusticeMap.asian',\n",
       " 'JusticeMap.black',\n",
       " 'JusticeMap.hispanic',\n",
       " 'JusticeMap.income',\n",
       " 'JusticeMap.multi',\n",
       " 'JusticeMap.nonWhite',\n",
       " 'JusticeMap.plurality',\n",
       " 'JusticeMap.white',\n",
       " 'MtbMap',\n",
       " 'NASAGIBS.ASTER_GDEM_Greyscale_Shaded_Relief',\n",
       " 'NASAGIBS.BlueMarble',\n",
       " 'NASAGIBS.BlueMarble3031',\n",
       " 'NASAGIBS.BlueMarble3413',\n",
       " 'NASAGIBS.BlueMarbleBathymetry3031',\n",
       " 'NASAGIBS.BlueMarbleBathymetry3413',\n",
       " 'NASAGIBS.MEaSUREsIceVelocity3031',\n",
       " 'NASAGIBS.MEaSUREsIceVelocity3413',\n",
       " 'NASAGIBS.ModisAquaBands721CR',\n",
       " 'NASAGIBS.ModisAquaTrueColorCR',\n",
       " 'NASAGIBS.ModisTerraAOD',\n",
       " 'NASAGIBS.ModisTerraBands367CR',\n",
       " 'NASAGIBS.ModisTerraBands721CR',\n",
       " 'NASAGIBS.ModisTerraChlorophyll',\n",
       " 'NASAGIBS.ModisTerraLSTDay',\n",
       " 'NASAGIBS.ModisTerraSnowCover',\n",
       " 'NASAGIBS.ModisTerraTrueColorCR',\n",
       " 'NASAGIBS.ViirsEarthAtNight2012',\n",
       " 'NASAGIBS.ViirsTrueColorCR',\n",
       " 'OPNVKarte',\n",
       " 'OneMapSG.Default',\n",
       " 'OneMapSG.Grey',\n",
       " 'OneMapSG.LandLot',\n",
       " 'OneMapSG.Night',\n",
       " 'OneMapSG.Original',\n",
       " 'OpenAIP',\n",
       " 'OpenFireMap',\n",
       " 'OpenRailwayMap',\n",
       " 'OpenSeaMap',\n",
       " 'OpenSnowMap.pistes',\n",
       " 'OpenStreetMap.BZH',\n",
       " 'OpenStreetMap.BlackAndWhite',\n",
       " 'OpenStreetMap.CH',\n",
       " 'OpenStreetMap.DE',\n",
       " 'OpenStreetMap.HOT',\n",
       " 'OpenStreetMap.Mapnik',\n",
       " 'OpenTopoMap',\n",
       " 'SafeCast',\n",
       " 'Stadia.AlidadeSatellite',\n",
       " 'Stadia.AlidadeSmooth',\n",
       " 'Stadia.AlidadeSmoothDark',\n",
       " 'Stadia.OSMBright',\n",
       " 'Stadia.Outdoors',\n",
       " 'Stadia.StamenTerrain',\n",
       " 'Stadia.StamenTerrainBackground',\n",
       " 'Stadia.StamenTerrainLabels',\n",
       " 'Stadia.StamenTerrainLines',\n",
       " 'Stadia.StamenToner',\n",
       " 'Stadia.StamenTonerBackground',\n",
       " 'Stadia.StamenTonerLabels',\n",
       " 'Stadia.StamenTonerLines',\n",
       " 'Stadia.StamenTonerLite',\n",
       " 'Stadia.StamenWatercolor',\n",
       " 'Strava.All',\n",
       " 'Strava.Ride',\n",
       " 'Strava.Run',\n",
       " 'Strava.Water',\n",
       " 'Strava.Winter',\n",
       " 'SwissFederalGeoportal.JourneyThroughTime',\n",
       " 'SwissFederalGeoportal.NationalMapColor',\n",
       " 'SwissFederalGeoportal.NationalMapGrey',\n",
       " 'SwissFederalGeoportal.SWISSIMAGE',\n",
       " 'TopPlusOpen.Color',\n",
       " 'TopPlusOpen.Grey',\n",
       " 'USGS.USImagery',\n",
       " 'USGS.USImageryTopo',\n",
       " 'USGS.USTopo',\n",
       " 'WaymarkedTrails.cycling',\n",
       " 'WaymarkedTrails.hiking',\n",
       " 'WaymarkedTrails.mtb',\n",
       " 'WaymarkedTrails.riding',\n",
       " 'WaymarkedTrails.skating',\n",
       " 'WaymarkedTrails.slopes',\n",
       " 'nlmaps.grijs',\n",
       " 'nlmaps.luchtfoto',\n",
       " 'nlmaps.pastel',\n",
       " 'nlmaps.standaard',\n",
       " 'nlmaps.water']"
      ]
     },
     "execution_count": 25,
     "metadata": {},
     "output_type": "execute_result"
    }
   ],
   "source": [
    "## list all basemaps known to leafmap\n",
    "list(leafmap.basemaps.keys())"
   ]
  },
  {
   "cell_type": "markdown",
   "id": "5f662fdd-2227-47ee-8af0-aa05e93427a4",
   "metadata": {},
   "source": [
    "### Performance\n",
    "\n",
    "Visualizing data on an interactive map is a challenging technical task because of the potential size of the data: To show the user data while they pan and zoom around the map across scales from city to planet-wide can involve trillions of pixels that must be loaded, plotted and styled.  Clever software takes advantage of the users's current zoom and field of view to render only the data the user can currently see, loading more data 'on demand' as the user moves the map.  Careful preparation of data layers into \"tiles\" pre-computed at different \"zooms\", data compression, and data chunking can dramatically improve the map's ability to render massive datasets smoothly. "
   ]
  }
 ],
 "metadata": {
  "kernelspec": {
   "display_name": "Python 3 (ipykernel)",
   "language": "python",
   "name": "python3"
  },
  "language_info": {
   "codemirror_mode": {
    "name": "ipython",
    "version": 3
   },
   "file_extension": ".py",
   "mimetype": "text/x-python",
   "name": "python",
   "nbconvert_exporter": "python",
   "pygments_lexer": "ipython3",
   "version": "3.11.10"
  }
 },
 "nbformat": 4,
 "nbformat_minor": 5
}
