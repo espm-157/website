{
 "cells": [
  {
   "cell_type": "markdown",
   "id": "e3ad2371-45da-47c9-ae45-6bc5f521e7e0",
   "metadata": {},
   "source": [
    "# Satellite Imagery\n",
    "\n",
    "In this section we turn to **raster** data, specifically, to satellite imagery.  "
   ]
  },
  {
   "cell_type": "code",
   "execution_count": 1,
   "id": "48b9cd7b-9470-45c8-8fb5-34dc03086fed",
   "metadata": {},
   "outputs": [
    {
     "data": {
      "application/vnd.jupyter.widget-view+json": {
       "model_id": "fe884180431f48cb90b7549b91632fab",
       "version_major": 2,
       "version_minor": 0
      },
      "text/plain": [
       "FloatProgress(value=0.0, layout=Layout(width='auto'), style=ProgressStyle(bar_color='black'))"
      ]
     },
     "metadata": {},
     "output_type": "display_data"
    },
    {
     "data": {
      "text/plain": [
       "array([-72.99321,  41.23109, -72.85227,  41.37502])"
      ]
     },
     "execution_count": 1,
     "metadata": {},
     "output_type": "execute_result"
    }
   ],
   "source": [
    "import ibis\n",
    "from ibis import _\n",
    "con = ibis.duckdb.connect()\n",
    "\n",
    "redlines = (con\n",
    "            .read_geo(\"/vsicurl/https://dsl.richmond.edu/panorama/redlining/static/mappinginequality.gpkg\")\n",
    "            .filter(_.city == \"New Haven\")\n",
    "            .execute()\n",
    "           )\n",
    "box = redlines.total_bounds\n",
    "box"
   ]
  },
  {
   "cell_type": "code",
   "execution_count": 2,
   "id": "3e82a3dd-0341-40bc-943a-efaf35ee9bb1",
   "metadata": {},
   "outputs": [
    {
     "ename": "AttributeError",
     "evalue": "module 'dask' has no attribute 'distributed'",
     "output_type": "error",
     "traceback": [
      "\u001b[0;31m---------------------------------------------------------------------------\u001b[0m",
      "\u001b[0;31mAttributeError\u001b[0m                            Traceback (most recent call last)",
      "Cell \u001b[0;32mIn[2], line 8\u001b[0m\n\u001b[1;32m      6\u001b[0m \u001b[38;5;28;01mfrom\u001b[39;00m \u001b[38;5;21;01mrasterstats\u001b[39;00m \u001b[38;5;28;01mimport\u001b[39;00m zonal_stats \n\u001b[1;32m      7\u001b[0m \u001b[38;5;28;01mimport\u001b[39;00m \u001b[38;5;21;01mdask\u001b[39;00m\n\u001b[0;32m----> 8\u001b[0m workers \u001b[38;5;241m=\u001b[39m \u001b[43mdask\u001b[49m\u001b[38;5;241;43m.\u001b[39;49m\u001b[43mdistributed\u001b[49m\u001b[38;5;241m.\u001b[39mClient()\n",
      "\u001b[0;31mAttributeError\u001b[0m: module 'dask' has no attribute 'distributed'"
     ]
    }
   ],
   "source": [
    "from pystac_client import Client\n",
    "import odc.stac\n",
    "import pystac_client\n",
    "import rioxarray\n",
    "import geopandas as gpd\n",
    "from rasterstats import zonal_stats \n",
    "import dask\n",
    "workers = dask.distributed.Client()\n"
   ]
  },
  {
   "cell_type": "code",
   "execution_count": null,
   "id": "79b43006-0a92-411e-b6de-8165abf4f417",
   "metadata": {},
   "outputs": [],
   "source": [
    "items = (\n",
    "  Client.\n",
    "  open(\"https://earth-search.aws.element84.com/v1\").\n",
    "  search(\n",
    "    collections = ['sentinel-2-l2a'],\n",
    "    bbox = box,\n",
    "    datetime = \"2024-06-01/2024-08-01\",\n",
    "    query={\"eo:cloud_cover\": {\"lt\": 5}}).\n",
    "  item_collection()\n",
    ")"
   ]
  },
  {
   "cell_type": "code",
   "execution_count": null,
   "id": "17fd6259-81dc-4017-9683-36f27e22d0b0",
   "metadata": {
    "scrolled": true
   },
   "outputs": [],
   "source": [
    "items"
   ]
  },
  {
   "cell_type": "code",
   "execution_count": null,
   "id": "475a04b6-ec9d-48c4-829d-fdc635ad16d3",
   "metadata": {},
   "outputs": [],
   "source": [
    "data = odc.stac.load(\n",
    "    items,\n",
    "    bands=[\"nir08\", \"red\"],\n",
    "    bbox=box,\n",
    "    chunks = {}\n",
    ")"
   ]
  },
  {
   "cell_type": "code",
   "execution_count": null,
   "id": "f3a3cbb4-2dde-4bd6-b57f-339f747e165b",
   "metadata": {},
   "outputs": [],
   "source": [
    "ndvi = (\n",
    "    ((data.nir08 - data.red) / (data.red + data.nir08))\n",
    "    #.resample(\"time\")\n",
    "    .median(\"time\", keep_attrs=True)\n",
    "    .compute()\n",
    ")\n",
    "\n",
    "ndvi = ndvi.where(ndvi < 1)\n",
    "\n",
    "\n"
   ]
  },
  {
   "cell_type": "code",
   "execution_count": null,
   "id": "988fa3fa-9e8a-407f-aa73-d8bcac534093",
   "metadata": {},
   "outputs": [],
   "source": [
    "ndvi"
   ]
  },
  {
   "cell_type": "code",
   "execution_count": null,
   "id": "aa569c61-5050-459d-8513-d4f49418d601",
   "metadata": {},
   "outputs": [],
   "source": [
    "import matplotlib as plt\n",
    "cmap = plt.colormaps.get_cmap('viridis')  # viridis is the default colormap for imshow\n",
    "cmap.set_bad(color='black')\n",
    "\n",
    "ndvi.plot.imshow( cmap=cmap, add_colorbar=False, size=4)"
   ]
  }
 ],
 "metadata": {
  "kernelspec": {
   "display_name": "Python 3 (ipykernel)",
   "language": "python",
   "name": "python3"
  },
  "language_info": {
   "codemirror_mode": {
    "name": "ipython",
    "version": 3
   },
   "file_extension": ".py",
   "mimetype": "text/x-python",
   "name": "python",
   "nbconvert_exporter": "python",
   "pygments_lexer": "ipython3",
   "version": "3.11.10"
  }
 },
 "nbformat": 4,
 "nbformat_minor": 5
}
