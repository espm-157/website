{
 "cells": [
  {
   "cell_type": "markdown",
   "id": "efaece10",
   "metadata": {},
   "source": [
    "# `ibis` Single Table Verbs\n",
    "\n",
    "We will be focusing on how to use the `ibis` package, a successor to the popular `pandas` package, for manipulating tabular data. We begin by importing the `ibis` package.   (We include two additional imports from the package which are commonly referred to using their short names, the table placeholder `_` instead of `ibis._`, and the selectors methods as `s` instead of the verbose `ibis.selectors`.  We will see these in action later). \n",
    "\n",
    "### Learning Goals\n",
    "\n",
    "- establish a connection with `duckdb.connect()`\n",
    "- use `head()` and `excute()` to preview large data\n",
    "- use `select()`, `distinct()`, `filter()` and `count()` to explore data.\n",
    "\n",
    "### Getting started\n",
    "\n",
    "To use `ibis`, we must also select a backend.  We will always be using the quite new and very powerful `duckdb` backend for all of our tasks.  We select a backend by creating a \"connection\".  The details here are not important for us, we can treat this first block as \"boilerplate\" starting code.  "
   ]
  },
  {
   "cell_type": "code",
   "execution_count": 4,
   "id": "5cd06032",
   "metadata": {},
   "outputs": [],
   "source": [
    "import ibis\n",
    "from ibis import _\n",
    "import ibis.selectors as s\n",
    "\n",
    "con = ibis.duckdb.connect()"
   ]
  },
  {
   "cell_type": "markdown",
   "id": "669064dc-3bcb-4fd5-8642-6f6a3510c5f4",
   "metadata": {},
   "source": [
    "We are now ready to read in our data.  We will begin by reading the metrics table from the direct access link, as indicated in the URL below.  `con.read_csv()` is quite similar to the `pandas.read_csv()` we saw in module 1, though the optional arguments get some different names and are not quite as flexibile.  One important option for our purposes will be the how to indicate missing values.  In the past, we've seen negative values like `-99` be used to indicate missing values.  That convention reflects limitations of early software, which had no natural concept of \"missing\". More modern conventions indicating missing values as \"NULL\" or \"NA\".  We indicate the data has chosen the latter:"
   ]
  },
  {
   "cell_type": "code",
   "execution_count": 2,
   "id": "dc151e13-fcd6-4520-88a4-ff82360e1a08",
   "metadata": {},
   "outputs": [],
   "source": [
    "metrics_url = \"https://huggingface.co/datasets/cboettig/ram_fisheries/resolve/main/v4.65/tsmetrics.csv\"\n",
    "tsmetrics = con.read_csv(metrics_url, nullstr=\"NA\")\n"
   ]
  },
  {
   "cell_type": "markdown",
   "id": "ec620286-ef95-4159-8db1-ddd2bfcbecbb",
   "metadata": {},
   "source": [
    "### Previewing data: `head()` and `execute()`\n",
    "\n",
    "Let's take a look at our new table:"
   ]
  },
  {
   "cell_type": "code",
   "execution_count": 3,
   "id": "1fd573d8-7328-46ed-b338-6019a081fd6e",
   "metadata": {},
   "outputs": [
    {
     "data": {
      "text/html": [
       "<pre style=\"white-space:pre;overflow-x:auto;line-height:normal;font-family:Menlo,'DejaVu Sans Mono',consolas,'Courier New',monospace\">DatabaseTable: ibis_read_csv_l4bhrp24vrhpniccwuijlv76sm\n",
       "  tscategory   string\n",
       "  tsshort      string\n",
       "  tslong       string\n",
       "  tsunitsshort string\n",
       "  tsunitslong  string\n",
       "  tsunique     string\n",
       "</pre>\n"
      ],
      "text/plain": [
       "DatabaseTable: ibis_read_csv_l4bhrp24vrhpniccwuijlv76sm\n",
       "  tscategory   string\n",
       "  tsshort      string\n",
       "  tslong       string\n",
       "  tsunitsshort string\n",
       "  tsunitslong  string\n",
       "  tsunique     string"
      ]
     },
     "execution_count": 3,
     "metadata": {},
     "output_type": "execute_result"
    }
   ],
   "source": [
    "tsmetrics"
   ]
  },
  {
   "cell_type": "markdown",
   "id": "423c0f20-34d3-4aab-bdf2-f28779491712",
   "metadata": {},
   "source": [
    "This doesn't look like a pretty pandas table! Where are the values?  Actually, as we become more familiar with `ibis` we learn to appreciate the display choice here.  `ibis` is designed for working with very big data. An important part of this is something called _lazy evaluation_. Even downloading a very large fle might take a long time, and trying to load a large dataset into python all at once can exceed available RAM and crash the kernel.  Instead, `ibis` merely \"peeks\" at the data over the remote connection -- without even downloading it! It tells us the names of each column and the data type (e.g. string, or numeric, etc) that the read_csv method has 'guessed' for the data.  As we will see, this is often the most useful information anway.  \n",
    "\n",
    "If we we do want to see a few example rows, we can use the method `head()` on the table, `tsmetrics.head()`, to say we want only want to see the top of the data frame.  Optionally we can specify how many rows we want to preview, e.g. `tsmetrics.head(10)` to see 10 (the default is 5). Let's try it:"
   ]
  },
  {
   "cell_type": "code",
   "execution_count": 6,
   "id": "af593a11-49d3-4f4d-983b-e9a4295fcc16",
   "metadata": {},
   "outputs": [
    {
     "data": {
      "text/html": [
       "<pre style=\"white-space:pre;overflow-x:auto;line-height:normal;font-family:Menlo,'DejaVu Sans Mono',consolas,'Courier New',monospace\">r0 := DatabaseTable: ibis_read_csv_l4bhrp24vrhpniccwuijlv76sm\n",
       "  tscategory   string\n",
       "  tsshort      string\n",
       "  tslong       string\n",
       "  tsunitsshort string\n",
       "  tsunitslong  string\n",
       "  tsunique     string\n",
       "\n",
       "Limit[r0, n=5]\n",
       "</pre>\n"
      ],
      "text/plain": [
       "r0 := DatabaseTable: ibis_read_csv_l4bhrp24vrhpniccwuijlv76sm\n",
       "  tscategory   string\n",
       "  tsshort      string\n",
       "  tslong       string\n",
       "  tsunitsshort string\n",
       "  tsunitslong  string\n",
       "  tsunique     string\n",
       "\n",
       "Limit[r0, n=5]"
      ]
     },
     "execution_count": 6,
     "metadata": {},
     "output_type": "execute_result"
    }
   ],
   "source": [
    "tsmetrics.head()"
   ]
  },
  {
   "cell_type": "markdown",
   "id": "e42d337e-25c0-4e0d-acc4-6f46d8fce15c",
   "metadata": {},
   "source": [
    "That's not the top of 5 rows!  Once again, `ibis` is being lazy.  We see the same definition of the table as before, only this time it has a name `r0`, and we see a \"plan of execution\", that ibis will return the first 5 rows `Limit[r0, 5]`.  We can force it to execute this plan with `execute()` :"
   ]
  },
  {
   "cell_type": "code",
   "execution_count": 7,
   "id": "fdc89821-85c7-495c-95ec-219a44fd2f44",
   "metadata": {},
   "outputs": [
    {
     "data": {
      "text/html": [
       "<div>\n",
       "<style scoped>\n",
       "    .dataframe tbody tr th:only-of-type {\n",
       "        vertical-align: middle;\n",
       "    }\n",
       "\n",
       "    .dataframe tbody tr th {\n",
       "        vertical-align: top;\n",
       "    }\n",
       "\n",
       "    .dataframe thead th {\n",
       "        text-align: right;\n",
       "    }\n",
       "</style>\n",
       "<table border=\"1\" class=\"dataframe\">\n",
       "  <thead>\n",
       "    <tr style=\"text-align: right;\">\n",
       "      <th></th>\n",
       "      <th>tscategory</th>\n",
       "      <th>tsshort</th>\n",
       "      <th>tslong</th>\n",
       "      <th>tsunitsshort</th>\n",
       "      <th>tsunitslong</th>\n",
       "      <th>tsunique</th>\n",
       "    </tr>\n",
       "  </thead>\n",
       "  <tbody>\n",
       "    <tr>\n",
       "      <th>0</th>\n",
       "      <td>OTHER TIME SERIES DATA</td>\n",
       "      <td>AQ</td>\n",
       "      <td>Aquaculture</td>\n",
       "      <td>MT</td>\n",
       "      <td>metric tons</td>\n",
       "      <td>AQ-MT</td>\n",
       "    </tr>\n",
       "    <tr>\n",
       "      <th>1</th>\n",
       "      <td>OTHER TIME SERIES DATA</td>\n",
       "      <td>ASP</td>\n",
       "      <td>Annual surplus production</td>\n",
       "      <td>MT</td>\n",
       "      <td>Metric tons</td>\n",
       "      <td>ASP-MT</td>\n",
       "    </tr>\n",
       "    <tr>\n",
       "      <th>2</th>\n",
       "      <td>TOTAL BIOMASS</td>\n",
       "      <td>BdivBmgtpref</td>\n",
       "      <td>General biomass time series preferentially rel...</td>\n",
       "      <td>dimensionless</td>\n",
       "      <td>dimensionless</td>\n",
       "      <td>BdivBmgtpref-dimensionless</td>\n",
       "    </tr>\n",
       "    <tr>\n",
       "      <th>3</th>\n",
       "      <td>TOTAL BIOMASS</td>\n",
       "      <td>BdivBmgttouse</td>\n",
       "      <td>General biomass time series relative to manage...</td>\n",
       "      <td>dimensionless</td>\n",
       "      <td>dimensionless</td>\n",
       "      <td>BdivBmgttouse-dimensionless</td>\n",
       "    </tr>\n",
       "    <tr>\n",
       "      <th>4</th>\n",
       "      <td>TOTAL BIOMASS</td>\n",
       "      <td>BdivBmsypref</td>\n",
       "      <td>General biomass time series preferentially rel...</td>\n",
       "      <td>dimensionless</td>\n",
       "      <td>dimensionless</td>\n",
       "      <td>BdivBmsypref-dimensionless</td>\n",
       "    </tr>\n",
       "  </tbody>\n",
       "</table>\n",
       "</div>"
      ],
      "text/plain": [
       "               tscategory        tsshort  \\\n",
       "0  OTHER TIME SERIES DATA             AQ   \n",
       "1  OTHER TIME SERIES DATA            ASP   \n",
       "2           TOTAL BIOMASS   BdivBmgtpref   \n",
       "3           TOTAL BIOMASS  BdivBmgttouse   \n",
       "4           TOTAL BIOMASS   BdivBmsypref   \n",
       "\n",
       "                                              tslong   tsunitsshort  \\\n",
       "0                                        Aquaculture             MT   \n",
       "1                          Annual surplus production             MT   \n",
       "2  General biomass time series preferentially rel...  dimensionless   \n",
       "3  General biomass time series relative to manage...  dimensionless   \n",
       "4  General biomass time series preferentially rel...  dimensionless   \n",
       "\n",
       "     tsunitslong                     tsunique  \n",
       "0    metric tons                        AQ-MT  \n",
       "1    Metric tons                       ASP-MT  \n",
       "2  dimensionless   BdivBmgtpref-dimensionless  \n",
       "3  dimensionless  BdivBmgttouse-dimensionless  \n",
       "4  dimensionless   BdivBmsypref-dimensionless  "
      ]
     },
     "execution_count": 7,
     "metadata": {},
     "output_type": "execute_result"
    }
   ],
   "source": [
    "tsmetrics.head().execute()"
   ]
  },
  {
   "cell_type": "markdown",
   "id": "9c4a3fa9-af21-48a2-8c9b-935f044a9b50",
   "metadata": {},
   "source": [
    "At last, we are starting to see what the data really looks like. Data tables can quickly become much to large to explore by simply trying to eyeball every row.  For instance, we notice the first column, `tscategory`, shows a few different possible categories for the various metrics in the database.  So, how many distinct categories are there?  \n",
    "\n",
    "### `select()` and `distinct()`\n",
    "\n",
    "To answer this, we will introduce a few more methods of data table manipulation. `select()` selects one or more _columns_ of a given table, while `distinct()` returns only distinct (unique) rows of the table.  Note that both of these methods share a common pattern -- they both apply to a table (not some piece of a table, like a row or column or cell), and they both return a new table as well that is some subset of the old table.  table in, table out.  This design is very intentional -- by having methods designed specificially to operate on tables and return tables, we can easily stack or chain these together, (also true of `head()` and execute()`.  So let's try and see distinct categories:"
   ]
  },
  {
   "cell_type": "code",
   "execution_count": 9,
   "id": "986edd3f-ca50-4778-a52d-ad312118e27f",
   "metadata": {},
   "outputs": [
    {
     "data": {
      "text/html": [
       "<div>\n",
       "<style scoped>\n",
       "    .dataframe tbody tr th:only-of-type {\n",
       "        vertical-align: middle;\n",
       "    }\n",
       "\n",
       "    .dataframe tbody tr th {\n",
       "        vertical-align: top;\n",
       "    }\n",
       "\n",
       "    .dataframe thead th {\n",
       "        text-align: right;\n",
       "    }\n",
       "</style>\n",
       "<table border=\"1\" class=\"dataframe\">\n",
       "  <thead>\n",
       "    <tr style=\"text-align: right;\">\n",
       "      <th></th>\n",
       "      <th>tscategory</th>\n",
       "    </tr>\n",
       "  </thead>\n",
       "  <tbody>\n",
       "    <tr>\n",
       "      <th>0</th>\n",
       "      <td>CATCH or LANDINGS</td>\n",
       "    </tr>\n",
       "    <tr>\n",
       "      <th>1</th>\n",
       "      <td>FISHING MORTALITY</td>\n",
       "    </tr>\n",
       "    <tr>\n",
       "      <th>2</th>\n",
       "      <td>OTHER TIME SERIES DATA</td>\n",
       "    </tr>\n",
       "    <tr>\n",
       "      <th>3</th>\n",
       "      <td>SPAWNING STOCK BIOMASS or CPUE</td>\n",
       "    </tr>\n",
       "    <tr>\n",
       "      <th>4</th>\n",
       "      <td>PRODUCTION</td>\n",
       "    </tr>\n",
       "    <tr>\n",
       "      <th>5</th>\n",
       "      <td>TOTAL BIOMASS</td>\n",
       "    </tr>\n",
       "    <tr>\n",
       "      <th>6</th>\n",
       "      <td>RECRUITS (NOTE: RECRUITS ARE OFFSET IN TIME SE...</td>\n",
       "    </tr>\n",
       "    <tr>\n",
       "      <th>7</th>\n",
       "      <td>TIME UNITS</td>\n",
       "    </tr>\n",
       "  </tbody>\n",
       "</table>\n",
       "</div>"
      ],
      "text/plain": [
       "                                          tscategory\n",
       "0                                  CATCH or LANDINGS\n",
       "1                                  FISHING MORTALITY\n",
       "2                             OTHER TIME SERIES DATA\n",
       "3                     SPAWNING STOCK BIOMASS or CPUE\n",
       "4                                         PRODUCTION\n",
       "5                                      TOTAL BIOMASS\n",
       "6  RECRUITS (NOTE: RECRUITS ARE OFFSET IN TIME SE...\n",
       "7                                         TIME UNITS"
      ]
     },
     "execution_count": 9,
     "metadata": {},
     "output_type": "execute_result"
    }
   ],
   "source": [
    "(tsmetrics\n",
    " .select(\"tscategory\")\n",
    " .distinct()\n",
    " .head(10)\n",
    " .execute()\n",
    ")\n",
    " "
   ]
  },
  {
   "cell_type": "markdown",
   "id": "8f3a7037-4511-4fdd-83ec-ec1e8fd11a43",
   "metadata": {},
   "source": [
    "Note that we have stacked these methods together with each step on it's own line by wrapping the whole thing inside `()` parentheses.  This can make a long \"chain\" of commands easier to read.  While we have asked for no more that 10 values, we have gotten back only 8 -- so we now know there are only 8 categories.  What if we had selected two columns instead before using `distinct()`?"
   ]
  },
  {
   "cell_type": "code",
   "execution_count": 10,
   "id": "f2066c6a-d407-4ac1-b81a-013dd69d8d86",
   "metadata": {},
   "outputs": [
    {
     "data": {
      "text/html": [
       "<div>\n",
       "<style scoped>\n",
       "    .dataframe tbody tr th:only-of-type {\n",
       "        vertical-align: middle;\n",
       "    }\n",
       "\n",
       "    .dataframe tbody tr th {\n",
       "        vertical-align: top;\n",
       "    }\n",
       "\n",
       "    .dataframe thead th {\n",
       "        text-align: right;\n",
       "    }\n",
       "</style>\n",
       "<table border=\"1\" class=\"dataframe\">\n",
       "  <thead>\n",
       "    <tr style=\"text-align: right;\">\n",
       "      <th></th>\n",
       "      <th>tscategory</th>\n",
       "      <th>tsshort</th>\n",
       "    </tr>\n",
       "  </thead>\n",
       "  <tbody>\n",
       "    <tr>\n",
       "      <th>0</th>\n",
       "      <td>SPAWNING STOCK BIOMASS or CPUE</td>\n",
       "      <td>CPUE-A8</td>\n",
       "    </tr>\n",
       "    <tr>\n",
       "      <th>1</th>\n",
       "      <td>SPAWNING STOCK BIOMASS or CPUE</td>\n",
       "      <td>CPUEraw-5</td>\n",
       "    </tr>\n",
       "    <tr>\n",
       "      <th>2</th>\n",
       "      <td>SPAWNING STOCK BIOMASS or CPUE</td>\n",
       "      <td>CPUEraw</td>\n",
       "    </tr>\n",
       "    <tr>\n",
       "      <th>3</th>\n",
       "      <td>SPAWNING STOCK BIOMASS or CPUE</td>\n",
       "      <td>CPUEstand-4</td>\n",
       "    </tr>\n",
       "    <tr>\n",
       "      <th>4</th>\n",
       "      <td>SPAWNING STOCK BIOMASS or CPUE</td>\n",
       "      <td>CPUEstand</td>\n",
       "    </tr>\n",
       "    <tr>\n",
       "      <th>5</th>\n",
       "      <td>CATCH or LANDINGS</td>\n",
       "      <td>CUSTC</td>\n",
       "    </tr>\n",
       "    <tr>\n",
       "      <th>6</th>\n",
       "      <td>OTHER TIME SERIES DATA</td>\n",
       "      <td>DIS</td>\n",
       "    </tr>\n",
       "    <tr>\n",
       "      <th>7</th>\n",
       "      <td>OTHER TIME SERIES DATA</td>\n",
       "      <td>EFFORT</td>\n",
       "    </tr>\n",
       "    <tr>\n",
       "      <th>8</th>\n",
       "      <td>OTHER TIME SERIES DATA</td>\n",
       "      <td>EFFORT-A2</td>\n",
       "    </tr>\n",
       "    <tr>\n",
       "      <th>9</th>\n",
       "      <td>FISHING MORTALITY</td>\n",
       "      <td>ER-3</td>\n",
       "    </tr>\n",
       "  </tbody>\n",
       "</table>\n",
       "</div>"
      ],
      "text/plain": [
       "                       tscategory      tsshort\n",
       "0  SPAWNING STOCK BIOMASS or CPUE      CPUE-A8\n",
       "1  SPAWNING STOCK BIOMASS or CPUE    CPUEraw-5\n",
       "2  SPAWNING STOCK BIOMASS or CPUE      CPUEraw\n",
       "3  SPAWNING STOCK BIOMASS or CPUE  CPUEstand-4\n",
       "4  SPAWNING STOCK BIOMASS or CPUE    CPUEstand\n",
       "5               CATCH or LANDINGS        CUSTC\n",
       "6          OTHER TIME SERIES DATA          DIS\n",
       "7          OTHER TIME SERIES DATA       EFFORT\n",
       "8          OTHER TIME SERIES DATA    EFFORT-A2\n",
       "9               FISHING MORTALITY         ER-3"
      ]
     },
     "execution_count": 10,
     "metadata": {},
     "output_type": "execute_result"
    }
   ],
   "source": [
    "(tsmetrics\n",
    " .select(\"tscategory\", \"tsshort\")\n",
    " .distinct()\n",
    " .head(10)\n",
    " .execute()\n",
    ")"
   ]
  },
  {
   "cell_type": "code",
   "execution_count": null,
   "id": "024296e8-3d25-474b-9226-e5e1348cf39b",
   "metadata": {},
   "outputs": [],
   "source": []
  }
 ],
 "metadata": {
  "kernelspec": {
   "display_name": "Python 3 (ipykernel)",
   "language": "python",
   "name": "python3"
  },
  "language_info": {
   "codemirror_mode": {
    "name": "ipython",
    "version": 3
   },
   "file_extension": ".py",
   "mimetype": "text/x-python",
   "name": "python",
   "nbconvert_exporter": "python",
   "pygments_lexer": "ipython3",
   "version": "3.10.12"
  }
 },
 "nbformat": 4,
 "nbformat_minor": 5
}
