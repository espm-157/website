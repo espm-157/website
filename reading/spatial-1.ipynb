{
 "cells": [
  {
   "cell_type": "markdown",
   "id": "a3c0b9d1-ff25-4a14-b6a3-d68b6fac2dbc",
   "metadata": {},
   "source": [
    "# Intro to Spatial Data\n",
    "\n",
    "In this section, we will explore various spatial data formats, operations, and visualization methods. As before, there is large landscape of tools and platforms designed to work for spatial data. We will be focusing on a subset of tools now emerging at the leading edge of cloud-native geospatial computing. \n",
    "\n",
    "Geospatial computation can be divided into three components:\n",
    "\n",
    "- Data I/O (input/output)\n",
    "- Data manipulation / analysis\n",
    "- Data visualization\n",
    "\n",
    "## Data I/O\n",
    "\n",
    "We divide geospatial data[^1] into two broad classes of data:\n",
    "\n",
    "- raster data\n",
    "- vector data\n",
    "\n",
    "**Raster** data, also called \"image\" data or gridded data are made up of pixels.  **Vector** data is made out of spatial coordinates expressing shapes as points, lines, or polygons. \n",
    "\n",
    "\n",
    "[^1]: The same concepts exist in computer graphics, e.g. png vs svg.  Unlike computer graphics formats which typically represent images in a 'flat' (Euclidian) geometry, geospatial data must contend with the curvature of the earth using an explicit notion of coordinate reference systems.  We will have more to say about this later.\n"
   ]
  },
  {
   "cell_type": "code",
   "execution_count": 1,
   "id": "a275fb8e-2a4a-41f4-9e56-fe446f4833e7",
   "metadata": {},
   "outputs": [],
   "source": [
    "import ibis\n",
    "from ibis import _\n",
    "\n",
    "con = ibis.duckdb.connect()"
   ]
  },
  {
   "cell_type": "markdown",
   "id": "84bf1028-e538-4bae-a954-3dab64af1357",
   "metadata": {},
   "source": [
    "### Working with Vector data\n",
    "\n",
    "As with tabular data, our first task is to _read_ our data object from a file into python. Spatial vector data can be found in a bewildering array of formats or file types (or \"serializations\"). Because some common platforms can only understand a few of these formats, it is not uncommon to see spatial data providers offer the same data in multile formats. Fortunately for us can more-or-less all be read in the same way.  \n",
    "\n",
    "\n",
    "Just as `pandas` has historically been the go-to for reading in tabular data, `geopandas` is the most common mechanism for reading spatial data into python.  Built on top of `pandas`, it faces the same limitations, especially when it comes to very big geospatial data.  Rather than teaching you different tools to work with 'small' and 'big' data, thanks to recent innovations we will be able to start off learning the faster, more scalable 'big data' solutions provided by `duckdb` and accessible to us in `ibis`.\n",
    "\n",
    "Let's begin by looking at the redlining data from the Mapping Inequality Project, <https://dsl.richmond.edu/panorama/redlining/data>.  This data provider offers the ability to \"download\" the data in either format. `ibis` [^2] can read either one, and can do so both directly from the URL and without downloading the entire file.  Use a two-finger click on the download button to copy-paste the download URL into your notebook, like so:\n",
    "\n",
    "\n",
    "[^2]: Good abstractions are at the core of good software design.  `ibis` isn't really doing the heavy lifting here, it is merely providing a user-friendly 'pythonic' interface to many different \"backends\" that perform the actual computation.  Only one of those, `duckdb`, is providing the spatial abilities we need.  When it comes to reading different file formats, `duckdb` achieves this only by calling out to another piece of software, `GDAL`, which has been around a lot longer and can be found under the hood of a great many geospatial data tools, from python packages like `geopandas` to QGIS to Google Earth Engine."
   ]
  },
  {
   "cell_type": "code",
   "execution_count": 2,
   "id": "6d8a086a-8b89-42ec-ad15-785d42eede65",
   "metadata": {},
   "outputs": [
    {
     "name": "stdout",
     "output_type": "stream",
     "text": [
      "CPU times: user 542 ms, sys: 110 ms, total: 653 ms\n",
      "Wall time: 1.67 s\n"
     ]
    }
   ],
   "source": [
    "%%time\n",
    "redlines = con.read_geo(\"/vsicurl/https://dsl.richmond.edu/panorama/redlining/static/mappinginequality.gpkg\")"
   ]
  },
  {
   "cell_type": "markdown",
   "id": "c5d75159-60e5-4181-9cab-f3bf65f307cb",
   "metadata": {},
   "source": [
    "Note how we have added the prefix `/vsicurl/` in the URL.  This signifies to the underlying software (GDAL) that we wish to use the virtual system interface to access this url, i.e. rather than first copying the file to the local machine, we access just the bytes we need over 'range requests'.  Previously we have seen `ibis` do this 'range request' trick automatically on URLs for text-based data, and in future this explicit prefix may not be necessary here either. "
   ]
  },
  {
   "cell_type": "code",
   "execution_count": 3,
   "id": "23ebc5fd-f587-440d-bd4b-2ff2b705bda0",
   "metadata": {},
   "outputs": [],
   "source": [
    "#%%time\n",
    "#without_vsi = con.read_geo(\"https://dsl.richmond.edu/panorama/redlining/static/mappinginequality.gpkg\")"
   ]
  },
  {
   "cell_type": "markdown",
   "id": "74c188bc-0dd5-4cf5-9198-9ce9e6362e9b",
   "metadata": {},
   "source": [
    "We can now use our `ibis` functions to explore this data.   What columns are in this data?"
   ]
  },
  {
   "cell_type": "code",
   "execution_count": 4,
   "id": "fa2a9f6c-936b-4d11-b1eb-0fb0b7971caa",
   "metadata": {},
   "outputs": [
    {
     "data": {
      "text/plain": [
       "['area_id',\n",
       " 'city',\n",
       " 'state',\n",
       " 'city_survey',\n",
       " 'category',\n",
       " 'grade',\n",
       " 'label',\n",
       " 'residential',\n",
       " 'commercial',\n",
       " 'industrial',\n",
       " 'fill',\n",
       " 'geom']"
      ]
     },
     "execution_count": 4,
     "metadata": {},
     "output_type": "execute_result"
    }
   ],
   "source": [
    "redlines.columns"
   ]
  },
  {
   "cell_type": "markdown",
   "id": "be2e087c-d6b4-48f3-a92a-09cccf189648",
   "metadata": {},
   "source": [
    "Let's sample a few city names from the data:"
   ]
  },
  {
   "cell_type": "code",
   "execution_count": 5,
   "id": "519e8609-3e59-44e9-9a40-8510019d582a",
   "metadata": {},
   "outputs": [
    {
     "data": {
      "application/vnd.jupyter.widget-view+json": {
       "model_id": "33e15463d3a24617be8c59056b475ef7",
       "version_major": 2,
       "version_minor": 0
      },
      "text/plain": [
       "FloatProgress(value=0.0, layout=Layout(width='auto'), style=ProgressStyle(bar_color='black'))"
      ]
     },
     "metadata": {},
     "output_type": "display_data"
    },
    {
     "data": {
      "text/html": [
       "<div>\n",
       "<style scoped>\n",
       "    .dataframe tbody tr th:only-of-type {\n",
       "        vertical-align: middle;\n",
       "    }\n",
       "\n",
       "    .dataframe tbody tr th {\n",
       "        vertical-align: top;\n",
       "    }\n",
       "\n",
       "    .dataframe thead th {\n",
       "        text-align: right;\n",
       "    }\n",
       "</style>\n",
       "<table border=\"1\" class=\"dataframe\">\n",
       "  <thead>\n",
       "    <tr style=\"text-align: right;\">\n",
       "      <th></th>\n",
       "      <th>city</th>\n",
       "    </tr>\n",
       "  </thead>\n",
       "  <tbody>\n",
       "    <tr>\n",
       "      <th>0</th>\n",
       "      <td>Pittsburgh</td>\n",
       "    </tr>\n",
       "    <tr>\n",
       "      <th>1</th>\n",
       "      <td>Wilkes-Barre</td>\n",
       "    </tr>\n",
       "    <tr>\n",
       "      <th>2</th>\n",
       "      <td>Providence</td>\n",
       "    </tr>\n",
       "    <tr>\n",
       "      <th>3</th>\n",
       "      <td>Woonsocket</td>\n",
       "    </tr>\n",
       "    <tr>\n",
       "      <th>4</th>\n",
       "      <td>Greenville</td>\n",
       "    </tr>\n",
       "    <tr>\n",
       "      <th>5</th>\n",
       "      <td>Bristol</td>\n",
       "    </tr>\n",
       "    <tr>\n",
       "      <th>6</th>\n",
       "      <td>Spokane</td>\n",
       "    </tr>\n",
       "    <tr>\n",
       "      <th>7</th>\n",
       "      <td>Madison</td>\n",
       "    </tr>\n",
       "    <tr>\n",
       "      <th>8</th>\n",
       "      <td>Batesville</td>\n",
       "    </tr>\n",
       "    <tr>\n",
       "      <th>9</th>\n",
       "      <td>Oakland</td>\n",
       "    </tr>\n",
       "  </tbody>\n",
       "</table>\n",
       "</div>"
      ],
      "text/plain": [
       "           city\n",
       "0    Pittsburgh\n",
       "1  Wilkes-Barre\n",
       "2    Providence\n",
       "3    Woonsocket\n",
       "4    Greenville\n",
       "5       Bristol\n",
       "6       Spokane\n",
       "7       Madison\n",
       "8    Batesville\n",
       "9       Oakland"
      ]
     },
     "execution_count": 5,
     "metadata": {},
     "output_type": "execute_result"
    }
   ],
   "source": [
    "redlines.select(_.city).distinct().head(10).execute() "
   ]
  },
  {
   "cell_type": "markdown",
   "id": "41f05efb-20e6-40b2-a95c-8434dfcbf215",
   "metadata": {},
   "source": [
    "or select all the data for a specific city:"
   ]
  },
  {
   "cell_type": "code",
   "execution_count": 6,
   "id": "8502bcf4-7135-4bcc-ba01-5b34a7b35228",
   "metadata": {},
   "outputs": [],
   "source": [
    "city = redlines.filter(_.city == \"New Haven\")"
   ]
  },
  {
   "cell_type": "markdown",
   "id": "307900da-5405-4eaa-bc0f-aa951d4d0853",
   "metadata": {},
   "source": [
    "As before, we can use the `.execute()` method to materialize our data into memory. Only instead of getting a `pandas` object, because it is spatial we get a `geopandas` object back.  "
   ]
  },
  {
   "cell_type": "code",
   "execution_count": 7,
   "id": "1700e369-748c-41f3-82c3-79ec35090bd1",
   "metadata": {},
   "outputs": [
    {
     "data": {
      "text/html": [
       "<div>\n",
       "<style scoped>\n",
       "    .dataframe tbody tr th:only-of-type {\n",
       "        vertical-align: middle;\n",
       "    }\n",
       "\n",
       "    .dataframe tbody tr th {\n",
       "        vertical-align: top;\n",
       "    }\n",
       "\n",
       "    .dataframe thead th {\n",
       "        text-align: right;\n",
       "    }\n",
       "</style>\n",
       "<table border=\"1\" class=\"dataframe\">\n",
       "  <thead>\n",
       "    <tr style=\"text-align: right;\">\n",
       "      <th></th>\n",
       "      <th>area_id</th>\n",
       "      <th>city</th>\n",
       "      <th>state</th>\n",
       "      <th>city_survey</th>\n",
       "      <th>category</th>\n",
       "      <th>grade</th>\n",
       "      <th>label</th>\n",
       "      <th>residential</th>\n",
       "      <th>commercial</th>\n",
       "      <th>industrial</th>\n",
       "      <th>fill</th>\n",
       "      <th>geom</th>\n",
       "    </tr>\n",
       "  </thead>\n",
       "  <tbody>\n",
       "    <tr>\n",
       "      <th>0</th>\n",
       "      <td>3569</td>\n",
       "      <td>New Haven</td>\n",
       "      <td>CT</td>\n",
       "      <td>True</td>\n",
       "      <td>Best</td>\n",
       "      <td>A</td>\n",
       "      <td>A1</td>\n",
       "      <td>True</td>\n",
       "      <td>False</td>\n",
       "      <td>False</td>\n",
       "      <td>#76a865</td>\n",
       "      <td>MULTIPOLYGON (((-72.90000 41.36885, -72.90325 ...</td>\n",
       "    </tr>\n",
       "    <tr>\n",
       "      <th>1</th>\n",
       "      <td>3568</td>\n",
       "      <td>New Haven</td>\n",
       "      <td>CT</td>\n",
       "      <td>True</td>\n",
       "      <td>Best</td>\n",
       "      <td>A</td>\n",
       "      <td>A2</td>\n",
       "      <td>True</td>\n",
       "      <td>False</td>\n",
       "      <td>False</td>\n",
       "      <td>#76a865</td>\n",
       "      <td>MULTIPOLYGON (((-72.89401 41.36331, -72.89256 ...</td>\n",
       "    </tr>\n",
       "    <tr>\n",
       "      <th>2</th>\n",
       "      <td>3566</td>\n",
       "      <td>New Haven</td>\n",
       "      <td>CT</td>\n",
       "      <td>True</td>\n",
       "      <td>Best</td>\n",
       "      <td>A</td>\n",
       "      <td>A3</td>\n",
       "      <td>True</td>\n",
       "      <td>False</td>\n",
       "      <td>False</td>\n",
       "      <td>#76a865</td>\n",
       "      <td>MULTIPOLYGON (((-72.90981 41.35949, -72.90284 ...</td>\n",
       "    </tr>\n",
       "    <tr>\n",
       "      <th>3</th>\n",
       "      <td>3567</td>\n",
       "      <td>New Haven</td>\n",
       "      <td>CT</td>\n",
       "      <td>True</td>\n",
       "      <td>Best</td>\n",
       "      <td>A</td>\n",
       "      <td>A4</td>\n",
       "      <td>True</td>\n",
       "      <td>False</td>\n",
       "      <td>False</td>\n",
       "      <td>#76a865</td>\n",
       "      <td>MULTIPOLYGON (((-72.90284 41.35795, -72.89990 ...</td>\n",
       "    </tr>\n",
       "    <tr>\n",
       "      <th>4</th>\n",
       "      <td>3564</td>\n",
       "      <td>New Haven</td>\n",
       "      <td>CT</td>\n",
       "      <td>True</td>\n",
       "      <td>Best</td>\n",
       "      <td>A</td>\n",
       "      <td>A5</td>\n",
       "      <td>True</td>\n",
       "      <td>False</td>\n",
       "      <td>False</td>\n",
       "      <td>#76a865</td>\n",
       "      <td>MULTIPOLYGON (((-72.89801 41.34930, -72.89883 ...</td>\n",
       "    </tr>\n",
       "  </tbody>\n",
       "</table>\n",
       "</div>"
      ],
      "text/plain": [
       "   area_id       city state  city_survey category grade label  residential  \\\n",
       "0     3569  New Haven    CT         True     Best     A    A1         True   \n",
       "1     3568  New Haven    CT         True     Best     A    A2         True   \n",
       "2     3566  New Haven    CT         True     Best     A    A3         True   \n",
       "3     3567  New Haven    CT         True     Best     A    A4         True   \n",
       "4     3564  New Haven    CT         True     Best     A    A5         True   \n",
       "\n",
       "   commercial  industrial     fill  \\\n",
       "0       False       False  #76a865   \n",
       "1       False       False  #76a865   \n",
       "2       False       False  #76a865   \n",
       "3       False       False  #76a865   \n",
       "4       False       False  #76a865   \n",
       "\n",
       "                                                geom  \n",
       "0  MULTIPOLYGON (((-72.90000 41.36885, -72.90325 ...  \n",
       "1  MULTIPOLYGON (((-72.89401 41.36331, -72.89256 ...  \n",
       "2  MULTIPOLYGON (((-72.90981 41.35949, -72.90284 ...  \n",
       "3  MULTIPOLYGON (((-72.90284 41.35795, -72.89990 ...  \n",
       "4  MULTIPOLYGON (((-72.89801 41.34930, -72.89883 ...  "
      ]
     },
     "execution_count": 7,
     "metadata": {},
     "output_type": "execute_result"
    }
   ],
   "source": [
    "city_gdf = city.head().execute()\n",
    "city_gdf"
   ]
  },
  {
   "cell_type": "markdown",
   "id": "f4b866b9-f523-4822-b0c6-a664d72da6d2",
   "metadata": {},
   "source": [
    "## Geometries and WKT\n",
    "\n",
    "At first glance this looks like a familar `pandas` table.  But the last column, `geom` looks a little different, with content like `MULTIPOLYGON (((-72.9 41.36885, -72.90325 41.3...`.  These text strings follow a specific standardized format for representing shapes called \"[Well Known Text](https://en.wikipedia.org/wiki/Well-known_text_representation_of_geometry)\".  These shapes (points, lines, polygons, as well as disjoint versions such as multipoint, multiline, and multipolygon), are collectively refered to as \"features\".  "
   ]
  },
  {
   "cell_type": "markdown",
   "id": "cad0abbb-c423-4ebf-bca3-279ae2260620",
   "metadata": {},
   "source": [
    "fun fact: if asked for a single feature, geopandas will actually draw it:"
   ]
  },
  {
   "cell_type": "code",
   "execution_count": 17,
   "id": "4dbac173-5ed0-4d10-a9ba-b561d7f59866",
   "metadata": {},
   "outputs": [
    {
     "data": {
      "image/svg+xml": [
       "<svg xmlns=\"http://www.w3.org/2000/svg\" xmlns:xlink=\"http://www.w3.org/1999/xlink\" width=\"100.0\" height=\"100.0\" viewBox=\"-72.9031932 41.3567668 0.009536400000015988 0.008516399999997759\" preserveAspectRatio=\"xMinYMin meet\"><g transform=\"matrix(1,0,0,-1,0,82.72205)\"><g><path fill-rule=\"evenodd\" fill=\"#66cc99\" stroke=\"#555555\" stroke-width=\"0.00019072800000031977\" opacity=\"0.6\" d=\"M -72.90284,41.35795 L -72.8999,41.35712 L -72.89788,41.36147 L -72.89564,41.36069 L -72.89401,41.36331 L -72.90102,41.36493 L -72.90073,41.36396 L -72.90078,41.36333 L -72.90062,41.36305 L -72.90069,41.36266 L -72.90132,41.36172 L -72.90178,41.36076 L -72.90284,41.35795 z\" /></g></g></svg>"
      ],
      "text/plain": [
       "<MULTIPOLYGON (((-72.903 41.358, -72.9 41.357, -72.898 41.361, -72.896 41.36...>"
      ]
     },
     "execution_count": 17,
     "metadata": {},
     "output_type": "execute_result"
    }
   ],
   "source": [
    "city_gdf.geom[3]"
   ]
  },
  {
   "cell_type": "markdown",
   "id": "72fa885a-0034-46d4-8522-a6c9f9f9cad1",
   "metadata": {},
   "source": [
    "We can coerce WKT into a plain string of text, and see that is simply an ordered list of X Y pairs of points like a connect-the-dots puzzle (in this case, in Longitude-Latitude pairs):"
   ]
  },
  {
   "cell_type": "code",
   "execution_count": 18,
   "id": "11017d10-32ea-4240-8edd-051f8d41f97b",
   "metadata": {},
   "outputs": [
    {
     "data": {
      "text/plain": [
       "'MULTIPOLYGON (((-72.90284 41.35795, -72.8999 41.35712, -72.89788 41.36147, -72.89564 41.36069, -72.89401 41.36331, -72.90102 41.36493, -72.90073 41.36396, -72.90078 41.36333, -72.90062 41.36305, -72.90069 41.36266, -72.90132 41.36172, -72.90178 41.36076, -72.90284 41.35795)))'"
      ]
     },
     "execution_count": 18,
     "metadata": {},
     "output_type": "execute_result"
    }
   ],
   "source": [
    "str(city_gdf.geom[3])"
   ]
  },
  {
   "cell_type": "markdown",
   "id": "61fdde69-e3e3-456c-abae-afe5f0157973",
   "metadata": {},
   "source": [
    "## Spatial operations\n",
    "\n",
    "In addition to the standard operations `ibis` can perform on tabular data, the spatial extension provides an extensive collection of operations specific to spatial geometries. The `ibis` documentation provides a table of all [available methods](https://ibis-project.org/reference/expression-geospatial#methods).[^3]  For instance, a common task is to compute the area inside each polygon. \n",
    "\n",
    "\n",
    "[^3]: some additional methods are possible in the underlying [duckdb spatial extension](https://duckdb.org/docs/extensions/spatial/overview.html) but do not yet have bindings in `ibis`.  `ibis` provides an extension syntax that allows users to invoke these methods.  "
   ]
  },
  {
   "cell_type": "code",
   "execution_count": 8,
   "id": "2832f6c8-c654-458a-8daa-d704c7a1a88f",
   "metadata": {},
   "outputs": [],
   "source": [
    "city = (redlines\n",
    "        .filter(_.city == \"New Haven\")\n",
    "        .mutate(area = _.geom.area())\n",
    "       )"
   ]
  },
  {
   "cell_type": "markdown",
   "id": "1160d015-cb7b-457e-ab6b-813484edc4ed",
   "metadata": {},
   "source": [
    "## References\n",
    "\n",
    "- [Introduction to GIS Programming by Qiusheng Wu](https://geog-312.gishub.org/index.html)"
   ]
  },
  {
   "cell_type": "code",
   "execution_count": null,
   "id": "1a13d1da-32c6-476e-b1e6-43bc02bf3971",
   "metadata": {},
   "outputs": [],
   "source": []
  }
 ],
 "metadata": {
  "kernelspec": {
   "display_name": "Python 3 (ipykernel)",
   "language": "python",
   "name": "python3"
  },
  "language_info": {
   "codemirror_mode": {
    "name": "ipython",
    "version": 3
   },
   "file_extension": ".py",
   "mimetype": "text/x-python",
   "name": "python",
   "nbconvert_exporter": "python",
   "pygments_lexer": "ipython3",
   "version": "3.11.10"
  }
 },
 "nbformat": 4,
 "nbformat_minor": 5
}
