{
 "cells": [
  {
   "attachments": {
    "d7b95307-317b-40c4-beb9-de3f91e5c379.png": {
     "image/png": "[encoded data removed]"
    }
   },
   "cell_type": "markdown",
   "id": "2124260a-f39e-4f6d-9469-fbac6c72a864",
   "metadata": {},
   "source": [
    "# Zonal Statistics\n",
    "\n",
    "Having generated a Cloud-Optimized GeoTiff (COG) file containing our NDVI calculations, we are now ready to return to our redlining data and determine if indeed we still see the legacy of those racist practices more than 50 years after they were outlawed. \n",
    "\n",
    "The aggregation of raster pixels grouped by their containing polygons is something like the spatial equivalent of our `.group_by()` + `.aggregate()` operations in ibis, where the raster defines the values and the polygons define the groups.  \n",
    "\n",
    "To compute the average NDVI in each polygon, we will introduce yet another module -- `exactextract`.  This package can efficiently compute summary statistics for each polygon given a raster image.  While several different modules can perform this kind of aggregation, [`exactextract`](https://isciences.github.io/exactextract/index.html) is quite fast and scalable, using an efficient algorithm in C++, and gets it's name for an ability to account for fractional coverage of a raster cell by a polygon, like so. \n",
    "\n",
    "![image.png](attachment:d7b95307-317b-40c4-beb9-de3f91e5c379.png)"
   ]
  },
  {
   "cell_type": "code",
   "execution_count": 1,
   "id": "63c059eb-dc3b-47f9-a544-e0f9ff3b7b75",
   "metadata": {},
   "outputs": [],
   "source": [
    "from exactextract import exact_extract\n",
    "import ibis\n",
    "from ibis import _\n"
   ]
  },
  {
   "cell_type": "markdown",
   "id": "af1b5864-d0be-43da-94eb-2fdaf7ab061e",
   "metadata": {},
   "source": [
    "We begin as before by grabbing our remote city data.  Here we have added an additional filter to focus only on residental data, as non-residental sites are not graded even though they are still marked on the map. "
   ]
  },
  {
   "cell_type": "code",
   "execution_count": 2,
   "id": "607ca58f-5d08-40ea-a5f1-836fe0dba47b",
   "metadata": {},
   "outputs": [],
   "source": [
    "con = ibis.duckdb.connect(extensions=[\"spatial\"])\n",
    "\n",
    "redlines = (\n",
    "    con\n",
    "    .read_geo(\"/vsicurl/https://dsl.richmond.edu/panorama/redlining/static/mappinginequality.gpkg\")\n",
    "    .filter(_.city == \"New Haven\", _.residential)\n",
    "   )\n",
    "\n"
   ]
  },
  {
   "cell_type": "markdown",
   "id": "fdd8adcd-63ef-4c02-a6d7-43157386404d",
   "metadata": {},
   "source": [
    "Spatial operations such as overlaying polygons on the raster requires that the two datasets have **matching coordinate reference systems**.  While we have already transformed our raster data to the 'longitude, latitude' coordinates, EPSG:4326, we need to manually add this annotation to declare that our parquet data is already using this projection as well.  We do this with `.set_crs()` option on `geopandas` object:"
   ]
  },
  {
   "cell_type": "code",
   "execution_count": 3,
   "id": "56c12787-459a-42f2-bd39-3c8dd63597cf",
   "metadata": {},
   "outputs": [
    {
     "data": {
      "application/vnd.jupyter.widget-view+json": {
       "model_id": "a5dd4b5535ec4ae5a7a4fa356dbe3c4b",
       "version_major": 2,
       "version_minor": 0
      },
      "text/plain": [
       "FloatProgress(value=0.0, layout=Layout(width='auto'), style=ProgressStyle(bar_color='black'))"
      ]
     },
     "metadata": {},
     "output_type": "display_data"
    }
   ],
   "source": [
    "city =  redlines.execute().set_crs(\"EPSG:4326\")"
   ]
  },
  {
   "cell_type": "markdown",
   "id": "01864c30-a92d-4acd-9052-337ab209a8c8",
   "metadata": {},
   "source": [
    "The `exact_extract` [documentation](https://isciences.github.io/exactextract/autoapi/exactextract/exact_extract/index.html) shows this is a flexible method able to take a raster and vector input and compute a range of summary statistics.  The method is also somewhat flexible in how it formats the output -- here we indicate we want the output formulated as a 'geopandas' object, keeping the geometry column and other useful columns from the original input data.\n",
    "\n",
    "\n"
   ]
  },
  {
   "cell_type": "code",
   "execution_count": 4,
   "id": "5e46e88c-ab93-4c36-8a48-1a777668726f",
   "metadata": {},
   "outputs": [
    {
     "name": "stderr",
     "output_type": "stream",
     "text": [
      "/opt/miniforge3/lib/python3.12/site-packages/exactextract/exact_extract.py:330: RuntimeWarning: Spatial reference system of input features does not exactly match raster.\n",
      "  warnings.warn(\n"
     ]
    },
    {
     "data": {
      "text/html": [
       "<div>\n",
       "<style scoped>\n",
       "    .dataframe tbody tr th:only-of-type {\n",
       "        vertical-align: middle;\n",
       "    }\n",
       "\n",
       "    .dataframe tbody tr th {\n",
       "        vertical-align: top;\n",
       "    }\n",
       "\n",
       "    .dataframe thead th {\n",
       "        text-align: right;\n",
       "    }\n",
       "</style>\n",
       "<table border=\"1\" class=\"dataframe\">\n",
       "  <thead>\n",
       "    <tr style=\"text-align: right;\">\n",
       "      <th></th>\n",
       "      <th>label</th>\n",
       "      <th>grade</th>\n",
       "      <th>city</th>\n",
       "      <th>fill</th>\n",
       "      <th>mean</th>\n",
       "      <th>geometry</th>\n",
       "    </tr>\n",
       "  </thead>\n",
       "  <tbody>\n",
       "    <tr>\n",
       "      <th>0</th>\n",
       "      <td>A1</td>\n",
       "      <td>A</td>\n",
       "      <td>New Haven</td>\n",
       "      <td>#76a865</td>\n",
       "      <td>0.709624</td>\n",
       "      <td>MULTIPOLYGON (((-72.9 41.36885, -72.90325 41.3...</td>\n",
       "    </tr>\n",
       "    <tr>\n",
       "      <th>1</th>\n",
       "      <td>A2</td>\n",
       "      <td>A</td>\n",
       "      <td>New Haven</td>\n",
       "      <td>#76a865</td>\n",
       "      <td>0.761685</td>\n",
       "      <td>MULTIPOLYGON (((-72.89401 41.36331, -72.89256 ...</td>\n",
       "    </tr>\n",
       "    <tr>\n",
       "      <th>2</th>\n",
       "      <td>A3</td>\n",
       "      <td>A</td>\n",
       "      <td>New Haven</td>\n",
       "      <td>#76a865</td>\n",
       "      <td>0.665130</td>\n",
       "      <td>MULTIPOLYGON (((-72.90981 41.35949, -72.90284 ...</td>\n",
       "    </tr>\n",
       "    <tr>\n",
       "      <th>3</th>\n",
       "      <td>A4</td>\n",
       "      <td>A</td>\n",
       "      <td>New Haven</td>\n",
       "      <td>#76a865</td>\n",
       "      <td>0.751388</td>\n",
       "      <td>MULTIPOLYGON (((-72.90284 41.35795, -72.8999 4...</td>\n",
       "    </tr>\n",
       "    <tr>\n",
       "      <th>4</th>\n",
       "      <td>A5</td>\n",
       "      <td>A</td>\n",
       "      <td>New Haven</td>\n",
       "      <td>#76a865</td>\n",
       "      <td>0.742981</td>\n",
       "      <td>MULTIPOLYGON (((-72.89801 41.3493, -72.89883 4...</td>\n",
       "    </tr>\n",
       "  </tbody>\n",
       "</table>\n",
       "</div>"
      ],
      "text/plain": [
       "  label grade       city     fill      mean  \\\n",
       "0    A1     A  New Haven  #76a865  0.709624   \n",
       "1    A2     A  New Haven  #76a865  0.761685   \n",
       "2    A3     A  New Haven  #76a865  0.665130   \n",
       "3    A4     A  New Haven  #76a865  0.751388   \n",
       "4    A5     A  New Haven  #76a865  0.742981   \n",
       "\n",
       "                                            geometry  \n",
       "0  MULTIPOLYGON (((-72.9 41.36885, -72.90325 41.3...  \n",
       "1  MULTIPOLYGON (((-72.89401 41.36331, -72.89256 ...  \n",
       "2  MULTIPOLYGON (((-72.90981 41.35949, -72.90284 ...  \n",
       "3  MULTIPOLYGON (((-72.90284 41.35795, -72.8999 4...  \n",
       "4  MULTIPOLYGON (((-72.89801 41.3493, -72.89883 4...  "
      ]
     },
     "execution_count": 4,
     "metadata": {},
     "output_type": "execute_result"
    }
   ],
   "source": [
    "city_stats = exact_extract(\"ndvi.tif\", \n",
    "                           city, \n",
    "                           [\"mean\"], \n",
    "                           include_geom = True,\n",
    "                           include_cols=[\"label\", \"grade\", \"city\", \"fill\"],\n",
    "                           output=\"pandas\")\n",
    "\n",
    "city_stats.head()"
   ]
  },
  {
   "cell_type": "markdown",
   "id": "8b2f0e6b-f8f6-4d1a-9d8d-d9c8e70020f0",
   "metadata": {},
   "source": [
    "We will write out this updated file as a parquet dataset. This provides both a mechanism to store our completed calculation and an easy way to go back from `geopandas` into `ibis`.  "
   ]
  },
  {
   "cell_type": "code",
   "execution_count": 5,
   "id": "e9d6361b-c9a9-48e2-9b3f-818e88951d0b",
   "metadata": {},
   "outputs": [],
   "source": [
    "city_stats.to_parquet(\"new_haven_stats.parquet\")"
   ]
  },
  {
   "cell_type": "markdown",
   "id": "e37afb42-dd1f-44ec-8180-99397dadd9ab",
   "metadata": {},
   "source": [
    "We can bring our data back into ibis, where we can do our familiar manipulations."
   ]
  },
  {
   "cell_type": "code",
   "execution_count": 6,
   "id": "dc44e75d-c9f5-476b-8a09-b77833aafb23",
   "metadata": {},
   "outputs": [],
   "source": [
    "city = con.read_parquet(\"new_haven_stats.parquet\")"
   ]
  },
  {
   "cell_type": "markdown",
   "id": "5cce332f-65f4-4916-86e3-e9b7e82c9e1f",
   "metadata": {},
   "source": [
    " and we are finally ready to summarize the data to determine if the spectre of redlining remains: on average, are A grades still greener than D grades?  Construct the rest of the `ibis` code to compute the average NDVI by grade."
   ]
  }
 ],
 "metadata": {
  "kernelspec": {
   "display_name": "Python 3 (ipykernel)",
   "language": "python",
   "name": "python3"
  },
  "language_info": {
   "codemirror_mode": {
    "name": "ipython",
    "version": 3
   },
   "file_extension": ".py",
   "mimetype": "text/x-python",
   "name": "python",
   "nbconvert_exporter": "python",
   "pygments_lexer": "ipython3",
   "version": "3.12.6"
  }
 },
 "nbformat": 4,
 "nbformat_minor": 5
}
