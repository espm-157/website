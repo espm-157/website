{
 "cells": [
  {
   "cell_type": "markdown",
   "id": "efaece10",
   "metadata": {},
   "source": [
    "\n",
    "\n",
    "# `ibis` Table Joins\n",
    "\n",
    "### Learning Goals\n",
    "\n",
    "- use `join()` to combine two tables on a key column\n"
   ]
  },
  {
   "cell_type": "code",
   "execution_count": 1,
   "id": "5cd06032",
   "metadata": {},
   "outputs": [],
   "source": [
    "import ibis\n",
    "from ibis import _\n",
    "import ibis.selectors as s\n",
    "\n",
    "con = ibis.duckdb.connect()"
   ]
  },
  {
   "cell_type": "markdown",
   "id": "669064dc-3bcb-4fd5-8642-6f6a3510c5f4",
   "metadata": {},
   "source": [
    "\n",
    "Last time we started getting comfortable with lazy evaluation (`head()` and `execute()`) in ibis, and began to learn how to `select()` (subset columns) and  `filter()` (subset rows), as well as looking at distinct values. Today we will continue to draw on these skills as we go deeper into the fisheries data in search of the evidence of the North Atlantic Cod collapse.  In the process, we shall pick up some new methods as well.\n",
    "\n",
    "As before, let's start with reading in data. Rather than focus on the metrics table, this time we will connect to several tables at the same time.  Note how we can reuse the `base_url` to avoid extra typing, but take care that we reading the right CSV file in each case! As before, we explicitly set the `nullstr` value as well to ensure missing value codes are correctly interpreted.  \n"
   ]
  },
  {
   "cell_type": "code",
   "execution_count": 2,
   "id": "dc151e13-fcd6-4520-88a4-ff82360e1a08",
   "metadata": {},
   "outputs": [],
   "source": [
    "base_url = \"https://huggingface.co/datasets/cboettig/ram_fisheries/resolve/main/v4.65/\"\n",
    "\n",
    "stock = con.read_csv(base_url + \"stock.csv\", nullstr=\"NA\")\n",
    "timeseries = con.read_csv(base_url + \"timeseries.csv\", nullstr=\"NA\")\n",
    "assessment = con.read_csv(base_url + \"assessment.csv\", nullstr=\"NA\")\n"
   ]
  },
  {
   "cell_type": "markdown",
   "id": "4523ec65-0675-433a-aa6b-b9837b50df64",
   "metadata": {},
   "source": [
    "### Fish 'stocks'\n",
    "\n",
    "Like most real world data science problems, understanding these tables requires both a bit of background in fisheries science and a lot of splunking into the data.  For our purposes, one of the key things you should know is that fisheries are divided into \"stocks\", which you can think of as a particular species of fish in a particular area of the ocean. Let's use the stock table to explore this idea a bit more.  Let's begin with a peek at the stock table:"
   ]
  },
  {
   "cell_type": "code",
   "execution_count": 3,
   "id": "66c1ee53-39c5-4c71-aafc-f09b2b080f3e",
   "metadata": {},
   "outputs": [
    {
     "data": {
      "text/html": [
       "<pre style=\"white-space:pre;overflow-x:auto;line-height:normal;font-family:Menlo,'DejaVu Sans Mono',consolas,'Courier New',monospace\">DatabaseTable: ibis_read_csv_5sjnrevlzzaijnrmxgnnonpheq\n",
       "  stockid         string\n",
       "  tsn             int64\n",
       "  scientificname  string\n",
       "  commonname      string\n",
       "  areaid          string\n",
       "  stocklong       string\n",
       "  region          string\n",
       "  primary_country string\n",
       "  primary_FAOarea int64\n",
       "  ISO3_code       string\n",
       "  GRSF_uuid       string\n",
       "  GRSF_areaid     string\n",
       "  inmyersdb       int64\n",
       "  myersstockid    string\n",
       "  state           string\n",
       "</pre>\n"
      ],
      "text/plain": [
       "DatabaseTable: ibis_read_csv_5sjnrevlzzaijnrmxgnnonpheq\n",
       "  stockid         string\n",
       "  tsn             int64\n",
       "  scientificname  string\n",
       "  commonname      string\n",
       "  areaid          string\n",
       "  stocklong       string\n",
       "  region          string\n",
       "  primary_country string\n",
       "  primary_FAOarea int64\n",
       "  ISO3_code       string\n",
       "  GRSF_uuid       string\n",
       "  GRSF_areaid     string\n",
       "  inmyersdb       int64\n",
       "  myersstockid    string\n",
       "  state           string"
      ]
     },
     "execution_count": 3,
     "metadata": {},
     "output_type": "execute_result"
    }
   ],
   "source": [
    "stock"
   ]
  },
  {
   "cell_type": "markdown",
   "id": "9f023f0e-941a-442b-a13e-3f0c3dc342d5",
   "metadata": {},
   "source": [
    "Ah! `commonname` looks like a good place as any to go looking for Atlantic cod.  Of course if we knew (or looked up) the scientific name of the species, that might be even better -- after all, common names are not always as precise.  Let's see what we can find:"
   ]
  },
  {
   "cell_type": "code",
   "execution_count": 4,
   "id": "a81e4ed7-614d-405f-a81c-c192934e9233",
   "metadata": {},
   "outputs": [
    {
     "data": {
      "text/html": [
       "<div>\n",
       "<style scoped>\n",
       "    .dataframe tbody tr th:only-of-type {\n",
       "        vertical-align: middle;\n",
       "    }\n",
       "\n",
       "    .dataframe tbody tr th {\n",
       "        vertical-align: top;\n",
       "    }\n",
       "\n",
       "    .dataframe thead th {\n",
       "        text-align: right;\n",
       "    }\n",
       "</style>\n",
       "<table border=\"1\" class=\"dataframe\">\n",
       "  <thead>\n",
       "    <tr style=\"text-align: right;\">\n",
       "      <th></th>\n",
       "      <th>stockid</th>\n",
       "      <th>scientificname</th>\n",
       "      <th>commonname</th>\n",
       "      <th>areaid</th>\n",
       "      <th>region</th>\n",
       "      <th>primary_country</th>\n",
       "      <th>ISO3_code</th>\n",
       "    </tr>\n",
       "  </thead>\n",
       "  <tbody>\n",
       "    <tr>\n",
       "      <th>0</th>\n",
       "      <td>COD1ABCDE</td>\n",
       "      <td>Gadus morhua</td>\n",
       "      <td>Atlantic cod</td>\n",
       "      <td>multinational-ICES-1ABCDE</td>\n",
       "      <td>Canada East Coast</td>\n",
       "      <td>Greenland</td>\n",
       "      <td>GRL</td>\n",
       "    </tr>\n",
       "    <tr>\n",
       "      <th>1</th>\n",
       "      <td>COD1F-XIV</td>\n",
       "      <td>Gadus morhua</td>\n",
       "      <td>Atlantic cod</td>\n",
       "      <td>multinational-ICES-1F-XIV</td>\n",
       "      <td>Europe non EU</td>\n",
       "      <td>Greenland</td>\n",
       "      <td>GRL</td>\n",
       "    </tr>\n",
       "    <tr>\n",
       "      <th>2</th>\n",
       "      <td>COD1IN</td>\n",
       "      <td>Gadus morhua</td>\n",
       "      <td>Atlantic cod</td>\n",
       "      <td>multinational-ICES-1IN</td>\n",
       "      <td>Canada East Coast</td>\n",
       "      <td>Greenland</td>\n",
       "      <td>GRL</td>\n",
       "    </tr>\n",
       "    <tr>\n",
       "      <th>3</th>\n",
       "      <td>COD2J3KL</td>\n",
       "      <td>Gadus morhua</td>\n",
       "      <td>Atlantic cod</td>\n",
       "      <td>Canada-DFO-2J3KL</td>\n",
       "      <td>Canada East Coast</td>\n",
       "      <td>Canada</td>\n",
       "      <td>CAN</td>\n",
       "    </tr>\n",
       "    <tr>\n",
       "      <th>4</th>\n",
       "      <td>COD3M</td>\n",
       "      <td>Gadus morhua</td>\n",
       "      <td>Atlantic cod</td>\n",
       "      <td>multinational-NAFO-3M</td>\n",
       "      <td>Canada East Coast</td>\n",
       "      <td>Portugal</td>\n",
       "      <td>PRT</td>\n",
       "    </tr>\n",
       "  </tbody>\n",
       "</table>\n",
       "</div>"
      ],
      "text/plain": [
       "     stockid scientificname    commonname                     areaid  \\\n",
       "0  COD1ABCDE   Gadus morhua  Atlantic cod  multinational-ICES-1ABCDE   \n",
       "1  COD1F-XIV   Gadus morhua  Atlantic cod  multinational-ICES-1F-XIV   \n",
       "2     COD1IN   Gadus morhua  Atlantic cod     multinational-ICES-1IN   \n",
       "3   COD2J3KL   Gadus morhua  Atlantic cod           Canada-DFO-2J3KL   \n",
       "4      COD3M   Gadus morhua  Atlantic cod      multinational-NAFO-3M   \n",
       "\n",
       "              region primary_country ISO3_code  \n",
       "0  Canada East Coast       Greenland       GRL  \n",
       "1      Europe non EU       Greenland       GRL  \n",
       "2  Canada East Coast       Greenland       GRL  \n",
       "3  Canada East Coast          Canada       CAN  \n",
       "4  Canada East Coast        Portugal       PRT  "
      ]
     },
     "execution_count": 4,
     "metadata": {},
     "output_type": "execute_result"
    }
   ],
   "source": [
    "(stock\n",
    " .filter(_.commonname == \"Atlantic cod\")\n",
    " .select(_.stockid, _.scientificname, _.commonname, \n",
    "         _.areaid, _.region, _.primary_country, _.ISO3_code)\n",
    " .head()\n",
    " .execute()\n",
    ")"
   ]
  },
  {
   "cell_type": "markdown",
   "id": "c9929000-9e2e-4a60-99d2-ca32683317fa",
   "metadata": {},
   "source": [
    "Lots of stocks of Atlantic cod!  Each row begins with a unique `stockid`.  A column that uniquely identifies each row in a given table is often referred to as the \"primary key\" for that table (and is often but not necessarily listed first).\n",
    "The rows that follow give us some sense of what defines a \"stock\" as a species in an area: we see a few different identifiers for the species: `commonname`, `scientificname`.\n",
    "We also see information abot the area the stock occurs in -- such as areaid, region, and primary country.  (For display purposes we selected only a subset of columns).  \n",
    "While we have found the Cod, we haven't yet found any data about the cod catch over time!  For that we will need to look in the timeseries data.  Let's see how it is organized:"
   ]
  },
  {
   "cell_type": "code",
   "execution_count": 5,
   "id": "b962e09c-05b4-4231-8a6b-9ad57c873ac2",
   "metadata": {},
   "outputs": [
    {
     "data": {
      "text/html": [
       "<div>\n",
       "<style scoped>\n",
       "    .dataframe tbody tr th:only-of-type {\n",
       "        vertical-align: middle;\n",
       "    }\n",
       "\n",
       "    .dataframe tbody tr th {\n",
       "        vertical-align: top;\n",
       "    }\n",
       "\n",
       "    .dataframe thead th {\n",
       "        text-align: right;\n",
       "    }\n",
       "</style>\n",
       "<table border=\"1\" class=\"dataframe\">\n",
       "  <thead>\n",
       "    <tr style=\"text-align: right;\">\n",
       "      <th></th>\n",
       "      <th>assessid</th>\n",
       "      <th>stockid</th>\n",
       "      <th>stocklong</th>\n",
       "      <th>tsid</th>\n",
       "      <th>tsyear</th>\n",
       "      <th>tsvalue</th>\n",
       "    </tr>\n",
       "  </thead>\n",
       "  <tbody>\n",
       "    <tr>\n",
       "      <th>0</th>\n",
       "      <td>ABARES-BGRDRSE-1960-2011-CHING</td>\n",
       "      <td>BGRDRSE</td>\n",
       "      <td>Blue grenadier Southeast Australia</td>\n",
       "      <td>CdivMEANC-ratio</td>\n",
       "      <td>1960</td>\n",
       "      <td>NaN</td>\n",
       "    </tr>\n",
       "    <tr>\n",
       "      <th>1</th>\n",
       "      <td>ABARES-BGRDRSE-1960-2011-CHING</td>\n",
       "      <td>BGRDRSE</td>\n",
       "      <td>Blue grenadier Southeast Australia</td>\n",
       "      <td>CdivMEANC-ratio</td>\n",
       "      <td>1961</td>\n",
       "      <td>NaN</td>\n",
       "    </tr>\n",
       "    <tr>\n",
       "      <th>2</th>\n",
       "      <td>ABARES-BGRDRSE-1960-2011-CHING</td>\n",
       "      <td>BGRDRSE</td>\n",
       "      <td>Blue grenadier Southeast Australia</td>\n",
       "      <td>CdivMEANC-ratio</td>\n",
       "      <td>1962</td>\n",
       "      <td>NaN</td>\n",
       "    </tr>\n",
       "    <tr>\n",
       "      <th>3</th>\n",
       "      <td>ABARES-BGRDRSE-1960-2011-CHING</td>\n",
       "      <td>BGRDRSE</td>\n",
       "      <td>Blue grenadier Southeast Australia</td>\n",
       "      <td>CdivMEANC-ratio</td>\n",
       "      <td>1963</td>\n",
       "      <td>NaN</td>\n",
       "    </tr>\n",
       "    <tr>\n",
       "      <th>4</th>\n",
       "      <td>ABARES-BGRDRSE-1960-2011-CHING</td>\n",
       "      <td>BGRDRSE</td>\n",
       "      <td>Blue grenadier Southeast Australia</td>\n",
       "      <td>CdivMEANC-ratio</td>\n",
       "      <td>1964</td>\n",
       "      <td>NaN</td>\n",
       "    </tr>\n",
       "  </tbody>\n",
       "</table>\n",
       "</div>"
      ],
      "text/plain": [
       "                         assessid  stockid  \\\n",
       "0  ABARES-BGRDRSE-1960-2011-CHING  BGRDRSE   \n",
       "1  ABARES-BGRDRSE-1960-2011-CHING  BGRDRSE   \n",
       "2  ABARES-BGRDRSE-1960-2011-CHING  BGRDRSE   \n",
       "3  ABARES-BGRDRSE-1960-2011-CHING  BGRDRSE   \n",
       "4  ABARES-BGRDRSE-1960-2011-CHING  BGRDRSE   \n",
       "\n",
       "                            stocklong             tsid  tsyear  tsvalue  \n",
       "0  Blue grenadier Southeast Australia  CdivMEANC-ratio    1960      NaN  \n",
       "1  Blue grenadier Southeast Australia  CdivMEANC-ratio    1961      NaN  \n",
       "2  Blue grenadier Southeast Australia  CdivMEANC-ratio    1962      NaN  \n",
       "3  Blue grenadier Southeast Australia  CdivMEANC-ratio    1963      NaN  \n",
       "4  Blue grenadier Southeast Australia  CdivMEANC-ratio    1964      NaN  "
      ]
     },
     "execution_count": 5,
     "metadata": {},
     "output_type": "execute_result"
    }
   ],
   "source": [
    "timeseries.head().execute()"
   ]
  },
  {
   "cell_type": "markdown",
   "id": "95e0d9c3-46de-44f0-9b59-f9b5fcc2d575",
   "metadata": {},
   "source": [
    "We again have a column called `stockid`. While we no longer have columns such as `commonname` or `scientificname` to tell us what species each row in the timeseries is measuring, we now know that we can look up that information in the stock table using the `stockid`. Such a column is often called a \"foreign key\", because it matches the primary key of a separate table.  (it appears the timeseries data has no 'primary key' of it's own -- no column that has a unique value for each row.). Rather than have to switch back and forth between two tables, we can **join** the two tables on `stockid`: "
   ]
  },
  {
   "cell_type": "code",
   "execution_count": 6,
   "id": "00d29681-a734-40fa-be08-d2b0deda53e1",
   "metadata": {},
   "outputs": [
    {
     "data": {
      "application/vnd.jupyter.widget-view+json": {
       "model_id": "6a95128b834b43918c0246f23663774f",
       "version_major": 2,
       "version_minor": 0
      },
      "text/plain": [
       "FloatProgress(value=0.0, layout=Layout(width='auto'), style=ProgressStyle(bar_color='black'))"
      ]
     },
     "metadata": {},
     "output_type": "display_data"
    },
    {
     "data": {
      "text/html": [
       "<div>\n",
       "<style scoped>\n",
       "    .dataframe tbody tr th:only-of-type {\n",
       "        vertical-align: middle;\n",
       "    }\n",
       "\n",
       "    .dataframe tbody tr th {\n",
       "        vertical-align: top;\n",
       "    }\n",
       "\n",
       "    .dataframe thead th {\n",
       "        text-align: right;\n",
       "    }\n",
       "</style>\n",
       "<table border=\"1\" class=\"dataframe\">\n",
       "  <thead>\n",
       "    <tr style=\"text-align: right;\">\n",
       "      <th></th>\n",
       "      <th>stockid</th>\n",
       "      <th>scientificname</th>\n",
       "      <th>tsid</th>\n",
       "      <th>tsyear</th>\n",
       "      <th>tsvalue</th>\n",
       "      <th>stocklong</th>\n",
       "      <th>stocklong_right</th>\n",
       "    </tr>\n",
       "  </thead>\n",
       "  <tbody>\n",
       "    <tr>\n",
       "      <th>0</th>\n",
       "      <td>COD4VsW</td>\n",
       "      <td>Gadus morhua</td>\n",
       "      <td>CdivMEANC-ratio</td>\n",
       "      <td>1958</td>\n",
       "      <td>0.997804</td>\n",
       "      <td>Atlantic cod Eastern Scotian Shelf</td>\n",
       "      <td>Atlantic cod Eastern Scotian Shelf</td>\n",
       "    </tr>\n",
       "    <tr>\n",
       "      <th>1</th>\n",
       "      <td>COD4VsW</td>\n",
       "      <td>Gadus morhua</td>\n",
       "      <td>CdivMEANC-ratio</td>\n",
       "      <td>1959</td>\n",
       "      <td>1.706091</td>\n",
       "      <td>Atlantic cod Eastern Scotian Shelf</td>\n",
       "      <td>Atlantic cod Eastern Scotian Shelf</td>\n",
       "    </tr>\n",
       "    <tr>\n",
       "      <th>2</th>\n",
       "      <td>COD4VsW</td>\n",
       "      <td>Gadus morhua</td>\n",
       "      <td>CdivMEANC-ratio</td>\n",
       "      <td>1960</td>\n",
       "      <td>1.308003</td>\n",
       "      <td>Atlantic cod Eastern Scotian Shelf</td>\n",
       "      <td>Atlantic cod Eastern Scotian Shelf</td>\n",
       "    </tr>\n",
       "    <tr>\n",
       "      <th>3</th>\n",
       "      <td>COD4VsW</td>\n",
       "      <td>Gadus morhua</td>\n",
       "      <td>CdivMEANC-ratio</td>\n",
       "      <td>1961</td>\n",
       "      <td>1.713846</td>\n",
       "      <td>Atlantic cod Eastern Scotian Shelf</td>\n",
       "      <td>Atlantic cod Eastern Scotian Shelf</td>\n",
       "    </tr>\n",
       "    <tr>\n",
       "      <th>4</th>\n",
       "      <td>COD4VsW</td>\n",
       "      <td>Gadus morhua</td>\n",
       "      <td>CdivMEANC-ratio</td>\n",
       "      <td>1962</td>\n",
       "      <td>1.685411</td>\n",
       "      <td>Atlantic cod Eastern Scotian Shelf</td>\n",
       "      <td>Atlantic cod Eastern Scotian Shelf</td>\n",
       "    </tr>\n",
       "  </tbody>\n",
       "</table>\n",
       "</div>"
      ],
      "text/plain": [
       "   stockid scientificname             tsid  tsyear   tsvalue  \\\n",
       "0  COD4VsW   Gadus morhua  CdivMEANC-ratio    1958  0.997804   \n",
       "1  COD4VsW   Gadus morhua  CdivMEANC-ratio    1959  1.706091   \n",
       "2  COD4VsW   Gadus morhua  CdivMEANC-ratio    1960  1.308003   \n",
       "3  COD4VsW   Gadus morhua  CdivMEANC-ratio    1961  1.713846   \n",
       "4  COD4VsW   Gadus morhua  CdivMEANC-ratio    1962  1.685411   \n",
       "\n",
       "                            stocklong                     stocklong_right  \n",
       "0  Atlantic cod Eastern Scotian Shelf  Atlantic cod Eastern Scotian Shelf  \n",
       "1  Atlantic cod Eastern Scotian Shelf  Atlantic cod Eastern Scotian Shelf  \n",
       "2  Atlantic cod Eastern Scotian Shelf  Atlantic cod Eastern Scotian Shelf  \n",
       "3  Atlantic cod Eastern Scotian Shelf  Atlantic cod Eastern Scotian Shelf  \n",
       "4  Atlantic cod Eastern Scotian Shelf  Atlantic cod Eastern Scotian Shelf  "
      ]
     },
     "execution_count": 6,
     "metadata": {},
     "output_type": "execute_result"
    }
   ],
   "source": [
    "(stock\n",
    " .filter(_.commonname == \"Atlantic cod\")\n",
    " .join(timeseries, \"stockid\")\n",
    " .head()\n",
    " .select(_.stockid, _.scientificname, _.tsid, _.tsyear, \n",
    "         _.tsvalue, _.stocklong, _.stocklong_right) # subset of columns to keep display narrow\n",
    " .execute()\n",
    ")\n"
   ]
  },
  {
   "cell_type": "markdown",
   "id": "3bae0906-8c87-43b9-b547-925b60bf7e3e",
   "metadata": {},
   "source": [
    "Effectively all this has done is take our timeseries table and for each stockid, add extra columns explaining what the stock table tells us about the stockid - species names, areas, and so on. The join has made our data is much wider than before -- we have all the **columns** from *both* tables.  (Note that both tables happened to have one column with the same name, `stocklong`.  A truly tidy database would not have done this -- we can easily see that this information belongs in the stock table.  Because our database cannot assume these are the same when we join, it has renamed the one on the \"right\" (from timeseries) as \"stocklong_right\" to distinguish them).  Because each `stockid` was repeated in the timeseries table, now all this other information is repeated too.  This is not as inefficient as it may sound, thanks to internal optimizations in the database.\n",
    "\n",
    "While it is clear even from this `head()` preview that we have the columns from both tables, what about the rows?  Our stock table was already filtered to a subset of rows containing only Cod stocks.  This join (technically called an \"inner join\") has kept only those `stockid`s, so we now have timeseries only about Cod!  In fact, we could have instead joined the full tables for all stock ids, and then applied the filter for `commonname`. \n",
    "\n",
    "### Exercise\n",
    "\n",
    "Try further exploring this resulting table using `select()` and `distinct()` to get a better sense of what rows are here.  You will notice additional \"*id\" columns, like `asssesid` or `areaid` matching other tables in the data.  Explore filtering and joinging with these tables as well.  "
   ]
  }
 ],
 "metadata": {
  "kernelspec": {
   "display_name": "Python 3 (ipykernel)",
   "language": "python",
   "name": "python3"
  },
  "language_info": {
   "codemirror_mode": {
    "name": "ipython",
    "version": 3
   },
   "file_extension": ".py",
   "mimetype": "text/x-python",
   "name": "python",
   "nbconvert_exporter": "python",
   "pygments_lexer": "ipython3",
   "version": "3.12.6"
  }
 },
 "nbformat": 4,
 "nbformat_minor": 5
}
