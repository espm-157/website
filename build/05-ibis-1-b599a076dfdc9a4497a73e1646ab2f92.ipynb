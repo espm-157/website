{
 "cells": [
  {
   "cell_type": "markdown",
   "id": "efaece10",
   "metadata": {},
   "source": [
    "# `ibis` Single Table Verbs\n",
    "\n",
    "We will be focusing on how to use the `ibis` package, a successor to the popular `pandas` package, for manipulating tabular data. We begin by importing the `ibis` package.   (We include two additional imports from the package which are commonly referred to using their short names, the table placeholder `_` instead of `ibis._`, and the selectors methods as `s` instead of the verbose `ibis.selectors`.  We will see these in action later). \n",
    "\n",
    "### Learning Goals\n",
    "\n",
    "- establish a connection with `duckdb.connect()`\n",
    "- use `head()` and `excute()` to preview large data\n",
    "- use `select()`, `distinct()`, `filter()` to explore data.\n",
    "\n",
    "### Getting started\n",
    "\n",
    "To use `ibis`, we must also select a backend.  We will always be using the quite new and very powerful `duckdb` backend for all of our tasks.  We select a backend by creating a \"connection\".  The details here are not important for us, we can treat this first block as \"boilerplate\" starting code.  \n"
   ]
  },
  {
   "cell_type": "code",
   "execution_count": 1,
   "id": "5cd06032",
   "metadata": {},
   "outputs": [],
   "source": [
    "import ibis\n",
    "from ibis import _\n",
    "import ibis.selectors as s\n",
    "\n",
    "con = ibis.duckdb.connect()"
   ]
  },
  {
   "cell_type": "markdown",
   "id": "669064dc-3bcb-4fd5-8642-6f6a3510c5f4",
   "metadata": {},
   "source": [
    "We are now ready to read in our data.  We will begin by reading the metrics table from the direct access link, as indicated in the URL below.  `con.read_csv()` is quite similar to the `pandas.read_csv()` we saw in module 1, though the optional arguments get some different names and are not quite as flexibile.  One important option for our purposes will be the how to indicate missing values.  In the past, we've seen negative values like `-99` be used to indicate missing values.  That convention reflects limitations of early software, which had no natural concept of \"missing\". More modern conventions indicating missing values as \"NULL\" or \"NA\".  We indicate the data has chosen the latter:"
   ]
  },
  {
   "cell_type": "code",
   "execution_count": 2,
   "id": "dc151e13-fcd6-4520-88a4-ff82360e1a08",
   "metadata": {},
   "outputs": [],
   "source": [
    "metrics_url = \"https://huggingface.co/datasets/cboettig/ram_fisheries/resolve/main/v4.65/tsmetrics.csv\"\n",
    "tsmetrics = con.read_csv(metrics_url, nullstr=\"NA\")\n"
   ]
  },
  {
   "cell_type": "markdown",
   "id": "ec620286-ef95-4159-8db1-ddd2bfcbecbb",
   "metadata": {},
   "source": [
    "### Previewing data: `head()` and `execute()`\n",
    "\n",
    "Let's take a look at our new table:"
   ]
  },
  {
   "cell_type": "code",
   "execution_count": 3,
   "id": "1fd573d8-7328-46ed-b338-6019a081fd6e",
   "metadata": {},
   "outputs": [
    {
     "data": {
      "text/html": [
       "<pre style=\"white-space:pre;overflow-x:auto;line-height:normal;font-family:Menlo,'DejaVu Sans Mono',consolas,'Courier New',monospace\">DatabaseTable: ibis_read_csv_lnkh36a47bbdhi4vbfj7tetgry\n",
       "  tscategory   string\n",
       "  tsshort      string\n",
       "  tslong       string\n",
       "  tsunitsshort string\n",
       "  tsunitslong  string\n",
       "  tsunique     string\n",
       "</pre>\n"
      ],
      "text/plain": [
       "DatabaseTable: ibis_read_csv_lnkh36a47bbdhi4vbfj7tetgry\n",
       "  tscategory   string\n",
       "  tsshort      string\n",
       "  tslong       string\n",
       "  tsunitsshort string\n",
       "  tsunitslong  string\n",
       "  tsunique     string"
      ]
     },
     "execution_count": 3,
     "metadata": {},
     "output_type": "execute_result"
    }
   ],
   "source": [
    "tsmetrics"
   ]
  },
  {
   "cell_type": "markdown",
   "id": "423c0f20-34d3-4aab-bdf2-f28779491712",
   "metadata": {},
   "source": [
    "This doesn't look like a pretty pandas table! Where are the values?  Actually, as we become more familiar with `ibis` we learn to appreciate the display choice here.  `ibis` is designed for working with very big data. An important part of this is something called _lazy evaluation_. Even downloading a very large fle might take a long time, and trying to load a large dataset into python all at once can exceed available RAM and crash the kernel.  Instead, `ibis` merely \"peeks\" at the data over the remote connection -- without even downloading it! It tells us the names of each column and the data type (e.g. string, or numeric, etc) that the read_csv method has 'guessed' for the data.  As we will see, this is often the most useful information anway.  \n",
    "\n",
    "If we we do want to see a few example rows, we can use the method `head()` on the table, `tsmetrics.head()`, to say we want only want to see the top of the data frame.  Optionally we can specify how many rows we want to preview, e.g. `tsmetrics.head(10)` to see 10 (the default is 5). Let's try it:"
   ]
  },
  {
   "cell_type": "code",
   "execution_count": 4,
   "id": "af593a11-49d3-4f4d-983b-e9a4295fcc16",
   "metadata": {},
   "outputs": [
    {
     "data": {
      "text/html": [
       "<pre style=\"white-space:pre;overflow-x:auto;line-height:normal;font-family:Menlo,'DejaVu Sans Mono',consolas,'Courier New',monospace\">r0 := DatabaseTable: ibis_read_csv_lnkh36a47bbdhi4vbfj7tetgry\n",
       "  tscategory   string\n",
       "  tsshort      string\n",
       "  tslong       string\n",
       "  tsunitsshort string\n",
       "  tsunitslong  string\n",
       "  tsunique     string\n",
       "\n",
       "Limit[r0, n=5]\n",
       "</pre>\n"
      ],
      "text/plain": [
       "r0 := DatabaseTable: ibis_read_csv_lnkh36a47bbdhi4vbfj7tetgry\n",
       "  tscategory   string\n",
       "  tsshort      string\n",
       "  tslong       string\n",
       "  tsunitsshort string\n",
       "  tsunitslong  string\n",
       "  tsunique     string\n",
       "\n",
       "Limit[r0, n=5]"
      ]
     },
     "execution_count": 4,
     "metadata": {},
     "output_type": "execute_result"
    }
   ],
   "source": [
    "tsmetrics.head()"
   ]
  },
  {
   "cell_type": "markdown",
   "id": "e42d337e-25c0-4e0d-acc4-6f46d8fce15c",
   "metadata": {},
   "source": [
    "That's not the top of 5 rows!  Once again, `ibis` is being lazy.  We see the same definition of the table as before, only this time it has a name `r0`, and we see a \"plan of execution\", that ibis will return the first 5 rows `Limit[r0, 5]`.  We can force it to execute this plan with `execute()` :"
   ]
  },
  {
   "cell_type": "code",
   "execution_count": 5,
   "id": "fdc89821-85c7-495c-95ec-219a44fd2f44",
   "metadata": {},
   "outputs": [
    {
     "data": {
      "text/html": [
       "<div>\n",
       "<style scoped>\n",
       "    .dataframe tbody tr th:only-of-type {\n",
       "        vertical-align: middle;\n",
       "    }\n",
       "\n",
       "    .dataframe tbody tr th {\n",
       "        vertical-align: top;\n",
       "    }\n",
       "\n",
       "    .dataframe thead th {\n",
       "        text-align: right;\n",
       "    }\n",
       "</style>\n",
       "<table border=\"1\" class=\"dataframe\">\n",
       "  <thead>\n",
       "    <tr style=\"text-align: right;\">\n",
       "      <th></th>\n",
       "      <th>tscategory</th>\n",
       "      <th>tsshort</th>\n",
       "      <th>tslong</th>\n",
       "      <th>tsunitsshort</th>\n",
       "      <th>tsunitslong</th>\n",
       "      <th>tsunique</th>\n",
       "    </tr>\n",
       "  </thead>\n",
       "  <tbody>\n",
       "    <tr>\n",
       "      <th>0</th>\n",
       "      <td>OTHER TIME SERIES DATA</td>\n",
       "      <td>AQ</td>\n",
       "      <td>Aquaculture</td>\n",
       "      <td>MT</td>\n",
       "      <td>metric tons</td>\n",
       "      <td>AQ-MT</td>\n",
       "    </tr>\n",
       "    <tr>\n",
       "      <th>1</th>\n",
       "      <td>OTHER TIME SERIES DATA</td>\n",
       "      <td>ASP</td>\n",
       "      <td>Annual surplus production</td>\n",
       "      <td>MT</td>\n",
       "      <td>Metric tons</td>\n",
       "      <td>ASP-MT</td>\n",
       "    </tr>\n",
       "    <tr>\n",
       "      <th>2</th>\n",
       "      <td>TOTAL BIOMASS</td>\n",
       "      <td>BdivBmgtpref</td>\n",
       "      <td>General biomass time series preferentially rel...</td>\n",
       "      <td>dimensionless</td>\n",
       "      <td>dimensionless</td>\n",
       "      <td>BdivBmgtpref-dimensionless</td>\n",
       "    </tr>\n",
       "    <tr>\n",
       "      <th>3</th>\n",
       "      <td>TOTAL BIOMASS</td>\n",
       "      <td>BdivBmgttouse</td>\n",
       "      <td>General biomass time series relative to manage...</td>\n",
       "      <td>dimensionless</td>\n",
       "      <td>dimensionless</td>\n",
       "      <td>BdivBmgttouse-dimensionless</td>\n",
       "    </tr>\n",
       "    <tr>\n",
       "      <th>4</th>\n",
       "      <td>TOTAL BIOMASS</td>\n",
       "      <td>BdivBmsypref</td>\n",
       "      <td>General biomass time series preferentially rel...</td>\n",
       "      <td>dimensionless</td>\n",
       "      <td>dimensionless</td>\n",
       "      <td>BdivBmsypref-dimensionless</td>\n",
       "    </tr>\n",
       "  </tbody>\n",
       "</table>\n",
       "</div>"
      ],
      "text/plain": [
       "               tscategory        tsshort  \\\n",
       "0  OTHER TIME SERIES DATA             AQ   \n",
       "1  OTHER TIME SERIES DATA            ASP   \n",
       "2           TOTAL BIOMASS   BdivBmgtpref   \n",
       "3           TOTAL BIOMASS  BdivBmgttouse   \n",
       "4           TOTAL BIOMASS   BdivBmsypref   \n",
       "\n",
       "                                              tslong   tsunitsshort  \\\n",
       "0                                        Aquaculture             MT   \n",
       "1                          Annual surplus production             MT   \n",
       "2  General biomass time series preferentially rel...  dimensionless   \n",
       "3  General biomass time series relative to manage...  dimensionless   \n",
       "4  General biomass time series preferentially rel...  dimensionless   \n",
       "\n",
       "     tsunitslong                     tsunique  \n",
       "0    metric tons                        AQ-MT  \n",
       "1    Metric tons                       ASP-MT  \n",
       "2  dimensionless   BdivBmgtpref-dimensionless  \n",
       "3  dimensionless  BdivBmgttouse-dimensionless  \n",
       "4  dimensionless   BdivBmsypref-dimensionless  "
      ]
     },
     "execution_count": 5,
     "metadata": {},
     "output_type": "execute_result"
    }
   ],
   "source": [
    "tsmetrics.head().execute()"
   ]
  },
  {
   "cell_type": "markdown",
   "id": "9c4a3fa9-af21-48a2-8c9b-935f044a9b50",
   "metadata": {},
   "source": [
    "At last, we are starting to see what the data really looks like. Data tables can quickly become much to large to explore by simply trying to eyeball every row.  For instance, we notice the first column, `tscategory`, shows a few different possible categories for the various metrics in the database.  So, how many distinct categories are there?  \n",
    "\n",
    "### `select()` and `distinct()`\n",
    "\n",
    "To answer this, we will introduce a few more methods of data table manipulation. `select()` selects one or more _columns_ of a given table, while `distinct()` returns only distinct (unique) rows of the table.  Note that both of these methods share a common pattern -- they both apply to a table (not some piece of a table, like a row or column or cell), and they both return a new table as well that is some subset of the old table.  table in, table out.  This design is very intentional -- by having methods designed specificially to operate on tables and return tables, we can easily stack or chain these together, (also true of `head()` and execute()`.  So let's try and see distinct categories:"
   ]
  },
  {
   "cell_type": "code",
   "execution_count": 6,
   "id": "986edd3f-ca50-4778-a52d-ad312118e27f",
   "metadata": {},
   "outputs": [
    {
     "data": {
      "text/html": [
       "<div>\n",
       "<style scoped>\n",
       "    .dataframe tbody tr th:only-of-type {\n",
       "        vertical-align: middle;\n",
       "    }\n",
       "\n",
       "    .dataframe tbody tr th {\n",
       "        vertical-align: top;\n",
       "    }\n",
       "\n",
       "    .dataframe thead th {\n",
       "        text-align: right;\n",
       "    }\n",
       "</style>\n",
       "<table border=\"1\" class=\"dataframe\">\n",
       "  <thead>\n",
       "    <tr style=\"text-align: right;\">\n",
       "      <th></th>\n",
       "      <th>tscategory</th>\n",
       "    </tr>\n",
       "  </thead>\n",
       "  <tbody>\n",
       "    <tr>\n",
       "      <th>0</th>\n",
       "      <td>OTHER TIME SERIES DATA</td>\n",
       "    </tr>\n",
       "    <tr>\n",
       "      <th>1</th>\n",
       "      <td>SPAWNING STOCK BIOMASS or CPUE</td>\n",
       "    </tr>\n",
       "    <tr>\n",
       "      <th>2</th>\n",
       "      <td>PRODUCTION</td>\n",
       "    </tr>\n",
       "    <tr>\n",
       "      <th>3</th>\n",
       "      <td>TOTAL BIOMASS</td>\n",
       "    </tr>\n",
       "    <tr>\n",
       "      <th>4</th>\n",
       "      <td>RECRUITS (NOTE: RECRUITS ARE OFFSET IN TIME SE...</td>\n",
       "    </tr>\n",
       "    <tr>\n",
       "      <th>5</th>\n",
       "      <td>TIME UNITS</td>\n",
       "    </tr>\n",
       "    <tr>\n",
       "      <th>6</th>\n",
       "      <td>CATCH or LANDINGS</td>\n",
       "    </tr>\n",
       "    <tr>\n",
       "      <th>7</th>\n",
       "      <td>FISHING MORTALITY</td>\n",
       "    </tr>\n",
       "  </tbody>\n",
       "</table>\n",
       "</div>"
      ],
      "text/plain": [
       "                                          tscategory\n",
       "0                             OTHER TIME SERIES DATA\n",
       "1                     SPAWNING STOCK BIOMASS or CPUE\n",
       "2                                         PRODUCTION\n",
       "3                                      TOTAL BIOMASS\n",
       "4  RECRUITS (NOTE: RECRUITS ARE OFFSET IN TIME SE...\n",
       "5                                         TIME UNITS\n",
       "6                                  CATCH or LANDINGS\n",
       "7                                  FISHING MORTALITY"
      ]
     },
     "execution_count": 6,
     "metadata": {},
     "output_type": "execute_result"
    }
   ],
   "source": [
    "(tsmetrics\n",
    " .select(\"tscategory\")\n",
    " .distinct()\n",
    " .head(10)\n",
    " .execute()\n",
    ")\n",
    " "
   ]
  },
  {
   "cell_type": "markdown",
   "id": "8f3a7037-4511-4fdd-83ec-ec1e8fd11a43",
   "metadata": {},
   "source": [
    "Note that we have stacked these methods together with each step on it's own line by wrapping the whole thing inside `()` parentheses.  This can make a long \"chain\" of commands easier to read.  While we have asked for no more that 10 values, we have gotten back only 8 -- so we now know there are only 8 categories.\n",
    "\n",
    "\n",
    "### `filter()`\n",
    "\n",
    "What are the different unit types within, say, the \"CATCH or LANDINGS\" category?  This requires a subset of _rows_ (a *filter*), rather than a subset of columns (`select()`):"
   ]
  },
  {
   "cell_type": "code",
   "execution_count": 7,
   "id": "f2066c6a-d407-4ac1-b81a-013dd69d8d86",
   "metadata": {},
   "outputs": [
    {
     "data": {
      "text/html": [
       "<div>\n",
       "<style scoped>\n",
       "    .dataframe tbody tr th:only-of-type {\n",
       "        vertical-align: middle;\n",
       "    }\n",
       "\n",
       "    .dataframe tbody tr th {\n",
       "        vertical-align: top;\n",
       "    }\n",
       "\n",
       "    .dataframe thead th {\n",
       "        text-align: right;\n",
       "    }\n",
       "</style>\n",
       "<table border=\"1\" class=\"dataframe\">\n",
       "  <thead>\n",
       "    <tr style=\"text-align: right;\">\n",
       "      <th></th>\n",
       "      <th>tscategory</th>\n",
       "      <th>tsshort</th>\n",
       "      <th>tslong</th>\n",
       "      <th>tsunitsshort</th>\n",
       "      <th>tsunitslong</th>\n",
       "      <th>tsunique</th>\n",
       "    </tr>\n",
       "  </thead>\n",
       "  <tbody>\n",
       "    <tr>\n",
       "      <th>0</th>\n",
       "      <td>CATCH or LANDINGS</td>\n",
       "      <td>CdivMSY-conv</td>\n",
       "      <td>Catch divided by MSY calculated from converted...</td>\n",
       "      <td>ratio</td>\n",
       "      <td>ratio</td>\n",
       "      <td>CdivMSY-conv-ratio</td>\n",
       "    </tr>\n",
       "    <tr>\n",
       "      <th>1</th>\n",
       "      <td>CATCH or LANDINGS</td>\n",
       "      <td>CdivMSY</td>\n",
       "      <td>Catch divided by MSY</td>\n",
       "      <td>ratio</td>\n",
       "      <td>ratio</td>\n",
       "      <td>CdivMSY-ratio</td>\n",
       "    </tr>\n",
       "    <tr>\n",
       "      <th>2</th>\n",
       "      <td>CATCH or LANDINGS</td>\n",
       "      <td>TAC-A2</td>\n",
       "      <td>Total allowable catch In subarea</td>\n",
       "      <td>MT</td>\n",
       "      <td>Metric tons</td>\n",
       "      <td>TAC-A2-MT</td>\n",
       "    </tr>\n",
       "    <tr>\n",
       "      <th>3</th>\n",
       "      <td>CATCH or LANDINGS</td>\n",
       "      <td>TC-3</td>\n",
       "      <td>Total catch. Use only when there is more than ...</td>\n",
       "      <td>E03</td>\n",
       "      <td>Thousands</td>\n",
       "      <td>TC-3-E03</td>\n",
       "    </tr>\n",
       "    <tr>\n",
       "      <th>4</th>\n",
       "      <td>CATCH or LANDINGS</td>\n",
       "      <td>TL-1</td>\n",
       "      <td>Total landings. Use only when there is more th...</td>\n",
       "      <td>E03MT</td>\n",
       "      <td>Thousands of metric tons</td>\n",
       "      <td>TL-1-E03MT</td>\n",
       "    </tr>\n",
       "    <tr>\n",
       "      <th>5</th>\n",
       "      <td>CATCH or LANDINGS</td>\n",
       "      <td>TL-A1</td>\n",
       "      <td>Total landings in subarea</td>\n",
       "      <td>MT</td>\n",
       "      <td>Metric tons</td>\n",
       "      <td>TL-A1-MT</td>\n",
       "    </tr>\n",
       "    <tr>\n",
       "      <th>6</th>\n",
       "      <td>CATCH or LANDINGS</td>\n",
       "      <td>TL-A3</td>\n",
       "      <td>Total landings in subarea</td>\n",
       "      <td>MT</td>\n",
       "      <td>Metric tons</td>\n",
       "      <td>TL-A3-MT</td>\n",
       "    </tr>\n",
       "    <tr>\n",
       "      <th>7</th>\n",
       "      <td>CATCH or LANDINGS</td>\n",
       "      <td>CdivMSY-est</td>\n",
       "      <td>Catch divided by MSY calculated from model-est...</td>\n",
       "      <td>ratio</td>\n",
       "      <td>ratio</td>\n",
       "      <td>CdivMSY-est-ratio</td>\n",
       "    </tr>\n",
       "    <tr>\n",
       "      <th>8</th>\n",
       "      <td>CATCH or LANDINGS</td>\n",
       "      <td>TAC</td>\n",
       "      <td>Total allowable catch</td>\n",
       "      <td>MT</td>\n",
       "      <td>Metric tons</td>\n",
       "      <td>TAC-MT</td>\n",
       "    </tr>\n",
       "    <tr>\n",
       "      <th>9</th>\n",
       "      <td>CATCH or LANDINGS</td>\n",
       "      <td>TC-2</td>\n",
       "      <td>Total catch (i.e. landings + discards. Add lan...</td>\n",
       "      <td>MT</td>\n",
       "      <td>Metric tons</td>\n",
       "      <td>TC-2-MT</td>\n",
       "    </tr>\n",
       "    <tr>\n",
       "      <th>10</th>\n",
       "      <td>CATCH or LANDINGS</td>\n",
       "      <td>TC</td>\n",
       "      <td>Total catch (i.e. landings + discards. Add lan...</td>\n",
       "      <td>E06</td>\n",
       "      <td>Millions</td>\n",
       "      <td>TC-E06</td>\n",
       "    </tr>\n",
       "    <tr>\n",
       "      <th>11</th>\n",
       "      <td>CATCH or LANDINGS</td>\n",
       "      <td>TL-2</td>\n",
       "      <td>Total landings. Use only when there is more th...</td>\n",
       "      <td>MT</td>\n",
       "      <td>Metric tons</td>\n",
       "      <td>TL-2-MT</td>\n",
       "    </tr>\n",
       "    <tr>\n",
       "      <th>12</th>\n",
       "      <td>CATCH or LANDINGS</td>\n",
       "      <td>TL-A4</td>\n",
       "      <td>Total landings in subarea</td>\n",
       "      <td>MT</td>\n",
       "      <td>Metric tons</td>\n",
       "      <td>TL-A4-MT</td>\n",
       "    </tr>\n",
       "    <tr>\n",
       "      <th>13</th>\n",
       "      <td>CATCH or LANDINGS</td>\n",
       "      <td>CdivMSY-dvmb</td>\n",
       "      <td>Catch divided by MSY calculated from reference...</td>\n",
       "      <td>ratio</td>\n",
       "      <td>ratio</td>\n",
       "      <td>CdivMSY-dvmb-ratio</td>\n",
       "    </tr>\n",
       "  </tbody>\n",
       "</table>\n",
       "</div>"
      ],
      "text/plain": [
       "           tscategory       tsshort  \\\n",
       "0   CATCH or LANDINGS  CdivMSY-conv   \n",
       "1   CATCH or LANDINGS       CdivMSY   \n",
       "2   CATCH or LANDINGS        TAC-A2   \n",
       "3   CATCH or LANDINGS          TC-3   \n",
       "4   CATCH or LANDINGS          TL-1   \n",
       "5   CATCH or LANDINGS         TL-A1   \n",
       "6   CATCH or LANDINGS         TL-A3   \n",
       "7   CATCH or LANDINGS   CdivMSY-est   \n",
       "8   CATCH or LANDINGS           TAC   \n",
       "9   CATCH or LANDINGS          TC-2   \n",
       "10  CATCH or LANDINGS            TC   \n",
       "11  CATCH or LANDINGS          TL-2   \n",
       "12  CATCH or LANDINGS         TL-A4   \n",
       "13  CATCH or LANDINGS  CdivMSY-dvmb   \n",
       "\n",
       "                                               tslong tsunitsshort  \\\n",
       "0   Catch divided by MSY calculated from converted...        ratio   \n",
       "1                                Catch divided by MSY        ratio   \n",
       "2                    Total allowable catch In subarea           MT   \n",
       "3   Total catch. Use only when there is more than ...          E03   \n",
       "4   Total landings. Use only when there is more th...        E03MT   \n",
       "5                           Total landings in subarea           MT   \n",
       "6                           Total landings in subarea           MT   \n",
       "7   Catch divided by MSY calculated from model-est...        ratio   \n",
       "8                               Total allowable catch           MT   \n",
       "9   Total catch (i.e. landings + discards. Add lan...           MT   \n",
       "10  Total catch (i.e. landings + discards. Add lan...          E06   \n",
       "11  Total landings. Use only when there is more th...           MT   \n",
       "12                          Total landings in subarea           MT   \n",
       "13  Catch divided by MSY calculated from reference...        ratio   \n",
       "\n",
       "                 tsunitslong            tsunique  \n",
       "0                      ratio  CdivMSY-conv-ratio  \n",
       "1                      ratio       CdivMSY-ratio  \n",
       "2                Metric tons           TAC-A2-MT  \n",
       "3                  Thousands            TC-3-E03  \n",
       "4   Thousands of metric tons          TL-1-E03MT  \n",
       "5                Metric tons            TL-A1-MT  \n",
       "6                Metric tons            TL-A3-MT  \n",
       "7                      ratio   CdivMSY-est-ratio  \n",
       "8                Metric tons              TAC-MT  \n",
       "9                Metric tons             TC-2-MT  \n",
       "10                  Millions              TC-E06  \n",
       "11               Metric tons             TL-2-MT  \n",
       "12               Metric tons            TL-A4-MT  \n",
       "13                     ratio  CdivMSY-dvmb-ratio  "
      ]
     },
     "execution_count": 7,
     "metadata": {},
     "output_type": "execute_result"
    }
   ],
   "source": [
    "(tsmetrics\n",
    " .filter(_.tscategory == \"CATCH or LANDINGS\")\n",
    " .distinct()\n",
    " .head(14)\n",
    " .execute()\n",
    ")"
   ]
  },
  {
   "cell_type": "markdown",
   "id": "c962acd9-61dc-42b4-87a4-3ac07eac930b",
   "metadata": {},
   "source": [
    "This syntax to subset rows (filter) is more complicated than columns (select) -- to find rows containing \"CATCH or LANDINGS\" we have to indicate _which_ column to look for.  \n",
    "\n",
    "#### column selection and `.`\n",
    "\n",
    "For python to know that we are looking for the column called \"tscategory\", we use the column selection `_.tscategory`.  This is actually a shorthand for the pattern `tsmetrics.tscategory` -- the `_` is a placeholder for \"the current table\" in our chain.  Extracting a single column with `.` is itself something of a shorthand, it is equivalent to using the selector `[`, as `tsmetrics[\"category\"]`.  When a column name is also the name of a table method, we may need to fall back on the square bracket convention.  So why use a dot at all?  In addition to taking two less characters to write, the `.` method allows \"tab completion\" of the column name, which helps us avoid typos.  Note that our `select()` method recognizes either syntax, you can do: `tsmetrics.select(_.tscategory)`.  This looks slightly more cryptic, but benefits from autocomplete and matches the sytnax of other functions.  \n",
    "\n",
    "#### `==` not `=`\n",
    "\n",
    "Another common mistake is to use a single `=` sign rather than `==` in filter.  Recall that `=` is used in variable assignment, `a = 1` sets the value of `a` as 1.  Double-equals is a \"boolean operator\", that tests if the statement is True or False:  \n"
   ]
  },
  {
   "cell_type": "code",
   "execution_count": 8,
   "id": "a6137819-0799-4f85-be44-cfc88caf6ed6",
   "metadata": {},
   "outputs": [
    {
     "data": {
      "text/plain": [
       "True"
      ]
     },
     "execution_count": 8,
     "metadata": {},
     "output_type": "execute_result"
    }
   ],
   "source": [
    "a = 1\n",
    "a == 1\n"
   ]
  },
  {
   "cell_type": "markdown",
   "id": "65b70156-e225-4645-a073-0533826c569c",
   "metadata": {},
   "source": [
    "Other boolean operators include `>`, `>=`, `!=` (not equal) and so forth. The important thing is to know that we can do boolean comparisons, this syntax is easy to look up.  \n",
    "\n",
    "### Next steps\n",
    "\n",
    "Explore the datasets in this collection using `select()`, `distinct()` and `filter()`.  We will return to this list of Catch units after we become more aquainted with the remaining tables.  \n"
   ]
  },
  {
   "cell_type": "markdown",
   "id": "dd635695-bd53-45fb-b724-cd2672bd957c",
   "metadata": {},
   "source": [
    "This syntax is harder than `select()` -- we can't just filter for \"CATCH or LANDINGS\" without indicating which column we are looking in.  To signal that `tscategory` is a column name and not just a piece of text, we use the subsetting notation, `_.tscategory`.  This is merely a shorthand for the more verbose:"
   ]
  }
 ],
 "metadata": {
  "kernelspec": {
   "display_name": "Python 3 (ipykernel)",
   "language": "python",
   "name": "python3"
  },
  "language_info": {
   "codemirror_mode": {
    "name": "ipython",
    "version": 3
   },
   "file_extension": ".py",
   "mimetype": "text/x-python",
   "name": "python",
   "nbconvert_exporter": "python",
   "pygments_lexer": "ipython3",
   "version": "3.12.6"
  }
 },
 "nbformat": 4,
 "nbformat_minor": 5
}
